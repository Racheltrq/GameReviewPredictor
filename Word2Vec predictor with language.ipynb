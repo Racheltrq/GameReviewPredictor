{
 "cells": [
  {
   "cell_type": "code",
   "execution_count": 1,
   "metadata": {},
   "outputs": [],
   "source": [
    "import pandas as pd\n",
    "import numpy as np"
   ]
  },
  {
   "cell_type": "code",
   "execution_count": 2,
   "metadata": {},
   "outputs": [],
   "source": [
    "df1 = pd.read_csv('./XYmat_lang_desc_cleaned.csv')\n",
    "df2 = pd.read_csv('./word_feature_mat.csv')"
   ]
  },
  {
   "cell_type": "code",
   "execution_count": 3,
   "metadata": {},
   "outputs": [
    {
     "data": {
      "text/html": [
       "<div>\n",
       "<style scoped>\n",
       "    .dataframe tbody tr th:only-of-type {\n",
       "        vertical-align: middle;\n",
       "    }\n",
       "\n",
       "    .dataframe tbody tr th {\n",
       "        vertical-align: top;\n",
       "    }\n",
       "\n",
       "    .dataframe thead th {\n",
       "        text-align: right;\n",
       "    }\n",
       "</style>\n",
       "<table border=\"1\" class=\"dataframe\">\n",
       "  <thead>\n",
       "    <tr style=\"text-align: right;\">\n",
       "      <th></th>\n",
       "      <th>name</th>\n",
       "      <th>reviews</th>\n",
       "      <th>desc_snippet</th>\n",
       "      <th>FPS</th>\n",
       "      <th>Gore</th>\n",
       "      <th>Action</th>\n",
       "      <th>Demons</th>\n",
       "      <th>Shooter</th>\n",
       "      <th>First-Person</th>\n",
       "      <th>Great Soundtrack</th>\n",
       "      <th>...</th>\n",
       "      <th>Finnish</th>\n",
       "      <th>Norwegian</th>\n",
       "      <th>Swedish</th>\n",
       "      <th>Greek</th>\n",
       "      <th>Bulgarian</th>\n",
       "      <th>Romanian</th>\n",
       "      <th>Unnamed: 412</th>\n",
       "      <th>Vietnamese</th>\n",
       "      <th>Slovakian</th>\n",
       "      <th>number of languages</th>\n",
       "    </tr>\n",
       "  </thead>\n",
       "  <tbody>\n",
       "    <tr>\n",
       "      <th>0</th>\n",
       "      <td>DOOM</td>\n",
       "      <td>92</td>\n",
       "      <td>Now includes all three premium DLC packs (Unto...</td>\n",
       "      <td>1</td>\n",
       "      <td>1</td>\n",
       "      <td>1</td>\n",
       "      <td>1</td>\n",
       "      <td>1</td>\n",
       "      <td>1</td>\n",
       "      <td>1</td>\n",
       "      <td>...</td>\n",
       "      <td>0</td>\n",
       "      <td>0</td>\n",
       "      <td>0</td>\n",
       "      <td>0</td>\n",
       "      <td>0</td>\n",
       "      <td>0</td>\n",
       "      <td>0</td>\n",
       "      <td>0</td>\n",
       "      <td>0</td>\n",
       "      <td>10</td>\n",
       "    </tr>\n",
       "    <tr>\n",
       "      <th>1</th>\n",
       "      <td>PLAYERUNKNOWN'S BATTLEGROUNDS</td>\n",
       "      <td>49</td>\n",
       "      <td>PLAYERUNKNOWN'S BATTLEGROUNDS is a battle roya...</td>\n",
       "      <td>1</td>\n",
       "      <td>0</td>\n",
       "      <td>1</td>\n",
       "      <td>0</td>\n",
       "      <td>1</td>\n",
       "      <td>1</td>\n",
       "      <td>0</td>\n",
       "      <td>...</td>\n",
       "      <td>0</td>\n",
       "      <td>0</td>\n",
       "      <td>0</td>\n",
       "      <td>0</td>\n",
       "      <td>0</td>\n",
       "      <td>0</td>\n",
       "      <td>0</td>\n",
       "      <td>0</td>\n",
       "      <td>0</td>\n",
       "      <td>17</td>\n",
       "    </tr>\n",
       "    <tr>\n",
       "      <th>2</th>\n",
       "      <td>BATTLETECH</td>\n",
       "      <td>71</td>\n",
       "      <td>Take command of your own mercenary outfit of '...</td>\n",
       "      <td>0</td>\n",
       "      <td>0</td>\n",
       "      <td>1</td>\n",
       "      <td>0</td>\n",
       "      <td>0</td>\n",
       "      <td>0</td>\n",
       "      <td>1</td>\n",
       "      <td>...</td>\n",
       "      <td>0</td>\n",
       "      <td>0</td>\n",
       "      <td>0</td>\n",
       "      <td>0</td>\n",
       "      <td>0</td>\n",
       "      <td>0</td>\n",
       "      <td>0</td>\n",
       "      <td>0</td>\n",
       "      <td>0</td>\n",
       "      <td>4</td>\n",
       "    </tr>\n",
       "    <tr>\n",
       "      <th>3</th>\n",
       "      <td>DayZ</td>\n",
       "      <td>61</td>\n",
       "      <td>The post-soviet country of Chernarus is struck...</td>\n",
       "      <td>1</td>\n",
       "      <td>0</td>\n",
       "      <td>1</td>\n",
       "      <td>0</td>\n",
       "      <td>1</td>\n",
       "      <td>0</td>\n",
       "      <td>0</td>\n",
       "      <td>...</td>\n",
       "      <td>0</td>\n",
       "      <td>0</td>\n",
       "      <td>0</td>\n",
       "      <td>0</td>\n",
       "      <td>0</td>\n",
       "      <td>0</td>\n",
       "      <td>0</td>\n",
       "      <td>0</td>\n",
       "      <td>0</td>\n",
       "      <td>9</td>\n",
       "    </tr>\n",
       "    <tr>\n",
       "      <th>4</th>\n",
       "      <td>EVE Online</td>\n",
       "      <td>74</td>\n",
       "      <td>EVE Online is a community-driven spaceship MMO...</td>\n",
       "      <td>0</td>\n",
       "      <td>0</td>\n",
       "      <td>1</td>\n",
       "      <td>0</td>\n",
       "      <td>0</td>\n",
       "      <td>0</td>\n",
       "      <td>0</td>\n",
       "      <td>...</td>\n",
       "      <td>0</td>\n",
       "      <td>0</td>\n",
       "      <td>0</td>\n",
       "      <td>0</td>\n",
       "      <td>0</td>\n",
       "      <td>0</td>\n",
       "      <td>0</td>\n",
       "      <td>0</td>\n",
       "      <td>0</td>\n",
       "      <td>4</td>\n",
       "    </tr>\n",
       "  </tbody>\n",
       "</table>\n",
       "<p>5 rows × 416 columns</p>\n",
       "</div>"
      ],
      "text/plain": [
       "                            name  reviews  \\\n",
       "0                           DOOM       92   \n",
       "1  PLAYERUNKNOWN'S BATTLEGROUNDS       49   \n",
       "2                     BATTLETECH       71   \n",
       "3                           DayZ       61   \n",
       "4                     EVE Online       74   \n",
       "\n",
       "                                        desc_snippet  FPS  Gore  Action  \\\n",
       "0  Now includes all three premium DLC packs (Unto...    1     1       1   \n",
       "1  PLAYERUNKNOWN'S BATTLEGROUNDS is a battle roya...    1     0       1   \n",
       "2  Take command of your own mercenary outfit of '...    0     0       1   \n",
       "3  The post-soviet country of Chernarus is struck...    1     0       1   \n",
       "4  EVE Online is a community-driven spaceship MMO...    0     0       1   \n",
       "\n",
       "   Demons  Shooter  First-Person  Great Soundtrack  ...  Finnish  Norwegian  \\\n",
       "0       1        1             1                 1  ...        0          0   \n",
       "1       0        1             1                 0  ...        0          0   \n",
       "2       0        0             0                 1  ...        0          0   \n",
       "3       0        1             0                 0  ...        0          0   \n",
       "4       0        0             0                 0  ...        0          0   \n",
       "\n",
       "   Swedish  Greek  Bulgarian  Romanian  Unnamed: 412  Vietnamese  Slovakian  \\\n",
       "0        0      0          0         0             0           0          0   \n",
       "1        0      0          0         0             0           0          0   \n",
       "2        0      0          0         0             0           0          0   \n",
       "3        0      0          0         0             0           0          0   \n",
       "4        0      0          0         0             0           0          0   \n",
       "\n",
       "   number of languages  \n",
       "0                   10  \n",
       "1                   17  \n",
       "2                    4  \n",
       "3                    9  \n",
       "4                    4  \n",
       "\n",
       "[5 rows x 416 columns]"
      ]
     },
     "execution_count": 3,
     "metadata": {},
     "output_type": "execute_result"
    }
   ],
   "source": [
    "df1.head(5)"
   ]
  },
  {
   "cell_type": "code",
   "execution_count": 4,
   "metadata": {},
   "outputs": [
    {
     "data": {
      "text/html": [
       "<div>\n",
       "<style scoped>\n",
       "    .dataframe tbody tr th:only-of-type {\n",
       "        vertical-align: middle;\n",
       "    }\n",
       "\n",
       "    .dataframe tbody tr th {\n",
       "        vertical-align: top;\n",
       "    }\n",
       "\n",
       "    .dataframe thead th {\n",
       "        text-align: right;\n",
       "    }\n",
       "</style>\n",
       "<table border=\"1\" class=\"dataframe\">\n",
       "  <thead>\n",
       "    <tr style=\"text-align: right;\">\n",
       "      <th></th>\n",
       "      <th>name</th>\n",
       "      <th>desc_snippet</th>\n",
       "      <th>wf1</th>\n",
       "      <th>wf2</th>\n",
       "      <th>wf3</th>\n",
       "      <th>wf4</th>\n",
       "      <th>wf5</th>\n",
       "      <th>wf6</th>\n",
       "      <th>wf7</th>\n",
       "      <th>wf8</th>\n",
       "      <th>...</th>\n",
       "      <th>wf91</th>\n",
       "      <th>wf92</th>\n",
       "      <th>wf93</th>\n",
       "      <th>wf94</th>\n",
       "      <th>wf95</th>\n",
       "      <th>wf96</th>\n",
       "      <th>wf97</th>\n",
       "      <th>wf98</th>\n",
       "      <th>wf99</th>\n",
       "      <th>wf100</th>\n",
       "    </tr>\n",
       "  </thead>\n",
       "  <tbody>\n",
       "    <tr>\n",
       "      <th>0</th>\n",
       "      <td>DOOM</td>\n",
       "      <td>Now includes all three premium DLC packs (Unto...</td>\n",
       "      <td>0.006291</td>\n",
       "      <td>0.019894</td>\n",
       "      <td>-0.036758</td>\n",
       "      <td>-0.083445</td>\n",
       "      <td>0.005177</td>\n",
       "      <td>0.061250</td>\n",
       "      <td>-0.021474</td>\n",
       "      <td>0.017422</td>\n",
       "      <td>...</td>\n",
       "      <td>-0.022482</td>\n",
       "      <td>-0.033148</td>\n",
       "      <td>-0.068780</td>\n",
       "      <td>-0.001817</td>\n",
       "      <td>-0.017904</td>\n",
       "      <td>0.030351</td>\n",
       "      <td>0.004494</td>\n",
       "      <td>0.032382</td>\n",
       "      <td>-0.038966</td>\n",
       "      <td>-0.011268</td>\n",
       "    </tr>\n",
       "    <tr>\n",
       "      <th>1</th>\n",
       "      <td>PLAYERUNKNOWN'S BATTLEGROUNDS</td>\n",
       "      <td>PLAYERUNKNOWN'S BATTLEGROUNDS is a battle roya...</td>\n",
       "      <td>0.065965</td>\n",
       "      <td>-0.040907</td>\n",
       "      <td>0.083006</td>\n",
       "      <td>-0.127466</td>\n",
       "      <td>0.047808</td>\n",
       "      <td>-0.001543</td>\n",
       "      <td>-0.050009</td>\n",
       "      <td>0.039216</td>\n",
       "      <td>...</td>\n",
       "      <td>-0.023967</td>\n",
       "      <td>0.092510</td>\n",
       "      <td>-0.061511</td>\n",
       "      <td>-0.053102</td>\n",
       "      <td>-0.076502</td>\n",
       "      <td>0.028666</td>\n",
       "      <td>-0.070288</td>\n",
       "      <td>0.085814</td>\n",
       "      <td>-0.036982</td>\n",
       "      <td>0.007031</td>\n",
       "    </tr>\n",
       "    <tr>\n",
       "      <th>2</th>\n",
       "      <td>BATTLETECH</td>\n",
       "      <td>Take command of your own mercenary outfit of '...</td>\n",
       "      <td>-0.031684</td>\n",
       "      <td>-0.044110</td>\n",
       "      <td>0.039126</td>\n",
       "      <td>-0.083009</td>\n",
       "      <td>0.019074</td>\n",
       "      <td>-0.035856</td>\n",
       "      <td>-0.076101</td>\n",
       "      <td>-0.022778</td>\n",
       "      <td>...</td>\n",
       "      <td>0.018407</td>\n",
       "      <td>0.000874</td>\n",
       "      <td>-0.036874</td>\n",
       "      <td>0.007654</td>\n",
       "      <td>-0.051571</td>\n",
       "      <td>0.053892</td>\n",
       "      <td>-0.045746</td>\n",
       "      <td>0.104181</td>\n",
       "      <td>-0.009850</td>\n",
       "      <td>0.006609</td>\n",
       "    </tr>\n",
       "    <tr>\n",
       "      <th>3</th>\n",
       "      <td>DayZ</td>\n",
       "      <td>The post-soviet country of Chernarus is struck...</td>\n",
       "      <td>-0.055274</td>\n",
       "      <td>-0.039872</td>\n",
       "      <td>0.011899</td>\n",
       "      <td>-0.009593</td>\n",
       "      <td>-0.051783</td>\n",
       "      <td>-0.071177</td>\n",
       "      <td>-0.109749</td>\n",
       "      <td>-0.064325</td>\n",
       "      <td>...</td>\n",
       "      <td>0.005817</td>\n",
       "      <td>0.016707</td>\n",
       "      <td>-0.070429</td>\n",
       "      <td>0.028132</td>\n",
       "      <td>-0.015154</td>\n",
       "      <td>0.082653</td>\n",
       "      <td>-0.020251</td>\n",
       "      <td>0.084262</td>\n",
       "      <td>0.054496</td>\n",
       "      <td>-0.026706</td>\n",
       "    </tr>\n",
       "    <tr>\n",
       "      <th>4</th>\n",
       "      <td>EVE Online</td>\n",
       "      <td>EVE Online is a community-driven spaceship MMO...</td>\n",
       "      <td>0.043309</td>\n",
       "      <td>0.011002</td>\n",
       "      <td>0.063850</td>\n",
       "      <td>-0.116439</td>\n",
       "      <td>0.026295</td>\n",
       "      <td>-0.004743</td>\n",
       "      <td>-0.111624</td>\n",
       "      <td>-0.012195</td>\n",
       "      <td>...</td>\n",
       "      <td>0.030270</td>\n",
       "      <td>0.049835</td>\n",
       "      <td>-0.096783</td>\n",
       "      <td>-0.020521</td>\n",
       "      <td>-0.073409</td>\n",
       "      <td>0.023094</td>\n",
       "      <td>-0.035156</td>\n",
       "      <td>0.090076</td>\n",
       "      <td>-0.001013</td>\n",
       "      <td>-0.026774</td>\n",
       "    </tr>\n",
       "  </tbody>\n",
       "</table>\n",
       "<p>5 rows × 102 columns</p>\n",
       "</div>"
      ],
      "text/plain": [
       "                            name  \\\n",
       "0                           DOOM   \n",
       "1  PLAYERUNKNOWN'S BATTLEGROUNDS   \n",
       "2                     BATTLETECH   \n",
       "3                           DayZ   \n",
       "4                     EVE Online   \n",
       "\n",
       "                                        desc_snippet       wf1       wf2  \\\n",
       "0  Now includes all three premium DLC packs (Unto...  0.006291  0.019894   \n",
       "1  PLAYERUNKNOWN'S BATTLEGROUNDS is a battle roya...  0.065965 -0.040907   \n",
       "2  Take command of your own mercenary outfit of '... -0.031684 -0.044110   \n",
       "3  The post-soviet country of Chernarus is struck... -0.055274 -0.039872   \n",
       "4  EVE Online is a community-driven spaceship MMO...  0.043309  0.011002   \n",
       "\n",
       "        wf3       wf4       wf5       wf6       wf7       wf8  ...      wf91  \\\n",
       "0 -0.036758 -0.083445  0.005177  0.061250 -0.021474  0.017422  ... -0.022482   \n",
       "1  0.083006 -0.127466  0.047808 -0.001543 -0.050009  0.039216  ... -0.023967   \n",
       "2  0.039126 -0.083009  0.019074 -0.035856 -0.076101 -0.022778  ...  0.018407   \n",
       "3  0.011899 -0.009593 -0.051783 -0.071177 -0.109749 -0.064325  ...  0.005817   \n",
       "4  0.063850 -0.116439  0.026295 -0.004743 -0.111624 -0.012195  ...  0.030270   \n",
       "\n",
       "       wf92      wf93      wf94      wf95      wf96      wf97      wf98  \\\n",
       "0 -0.033148 -0.068780 -0.001817 -0.017904  0.030351  0.004494  0.032382   \n",
       "1  0.092510 -0.061511 -0.053102 -0.076502  0.028666 -0.070288  0.085814   \n",
       "2  0.000874 -0.036874  0.007654 -0.051571  0.053892 -0.045746  0.104181   \n",
       "3  0.016707 -0.070429  0.028132 -0.015154  0.082653 -0.020251  0.084262   \n",
       "4  0.049835 -0.096783 -0.020521 -0.073409  0.023094 -0.035156  0.090076   \n",
       "\n",
       "       wf99     wf100  \n",
       "0 -0.038966 -0.011268  \n",
       "1 -0.036982  0.007031  \n",
       "2 -0.009850  0.006609  \n",
       "3  0.054496 -0.026706  \n",
       "4 -0.001013 -0.026774  \n",
       "\n",
       "[5 rows x 102 columns]"
      ]
     },
     "execution_count": 4,
     "metadata": {},
     "output_type": "execute_result"
    }
   ],
   "source": [
    "df2.head(5)"
   ]
  },
  {
   "cell_type": "code",
   "execution_count": 5,
   "metadata": {},
   "outputs": [],
   "source": [
    "array1 = df1.to_numpy()\n",
    "X1 = np.delete(array1, 2, 1)"
   ]
  },
  {
   "cell_type": "code",
   "execution_count": 6,
   "metadata": {},
   "outputs": [
    {
     "name": "stdout",
     "output_type": "stream",
     "text": [
      "[['DOOM' 92 1 ... 0 0 10]\n",
      " [\"PLAYERUNKNOWN'S BATTLEGROUNDS\" 49 1 ... 0 0 17]\n",
      " ['BATTLETECH' 71 0 ... 0 0 4]\n",
      " ...\n",
      " ['The Last Weekend' 57 0 ... 0 0 1]\n",
      " ['Zulu Response' 47 1 ... 0 0 2]\n",
      " ['Choice of Rebels: Uprising' 96 0 ... 0 0 6]]\n"
     ]
    }
   ],
   "source": [
    "print(X1)"
   ]
  },
  {
   "cell_type": "code",
   "execution_count": 7,
   "metadata": {},
   "outputs": [],
   "source": [
    "array2 = df2.to_numpy()\n",
    "X2 = np.delete(array2, 1, 1)"
   ]
  },
  {
   "cell_type": "code",
   "execution_count": 8,
   "metadata": {},
   "outputs": [
    {
     "name": "stdout",
     "output_type": "stream",
     "text": [
      "[['DOOM' 0.006291399244219065 0.019894296675920485 ...\n",
      "  0.032381537929177286 -0.03896602783352136 -0.01126769632101059]\n",
      " [\"PLAYERUNKNOWN'S BATTLEGROUNDS\" 0.06596502251923084 -0.0409067090600729\n",
      "  ... 0.08581372052431106 -0.03698160322383046 0.007031131908297539]\n",
      " ['BATTLETECH' -0.03168355114758015 -0.044109889492392536 ...\n",
      "  0.10418071886524558 -0.009849852696061137 0.006608905643224717]\n",
      " ...\n",
      " ['Galactis' 0.029017702862620356 -0.02262181304395199 ...\n",
      "  0.041712296288460494 0.010209517553448677 0.0016313848667778073]\n",
      " ['Alive' -0.02112476322799921 -0.025149831059388814 ...\n",
      "  0.059446010022657 0.030122669786214824 -0.04876134330406785]\n",
      " ['Stories In Stone' -0.0131360721308738 0.01890635378658772 ...\n",
      "  0.02485982086509466 0.04401859268546104 -0.0465050233528018]]\n"
     ]
    }
   ],
   "source": [
    "print(X2)"
   ]
  },
  {
   "cell_type": "code",
   "execution_count": 10,
   "metadata": {},
   "outputs": [
    {
     "name": "stdout",
     "output_type": "stream",
     "text": [
      "10277 24612\n",
      "(10203, 514)\n"
     ]
    }
   ],
   "source": [
    "new_array = []\n",
    "i = 0\n",
    "\n",
    "while i < len(X1):\n",
    "    for arr in X2:\n",
    "        if X1[i][0] == arr[0]:\n",
    "            new_array.append(np.append(X1[i][1:], arr[1:]))\n",
    "            break\n",
    "    i += 1\n",
    "    #print(i)\n",
    "\n",
    "print(len(X1), len(X2))\n",
    "\n",
    "Xy = np.asarray(new_array)\n",
    "print(Xy.shape)\n",
    "for i in Xy:\n",
    "    for j in i:\n",
    "        if np.isnan(j) == True:\n",
    "            print(True)"
   ]
  },
  {
   "cell_type": "code",
   "execution_count": 11,
   "metadata": {},
   "outputs": [
    {
     "name": "stdout",
     "output_type": "stream",
     "text": [
      "[[92 1 1 ... 0.032381537929177286 -0.03896602783352136\n",
      "  -0.01126769632101059]\n",
      " [49 1 0 ... 0.08581372052431106 -0.03698160322383046\n",
      "  0.007031131908297539]\n",
      " [71 0 0 ... 0.10418071886524558 -0.009849852696061137\n",
      "  0.006608905643224717]\n",
      " ...\n",
      " [57 0 0 ... 0.039271814282983535 0.03507877103984356 0.00484479907900095]\n",
      " [47 1 0 ... 0.08566247075796128 -0.05540984738618136\n",
      "  -0.004844885074999183]\n",
      " [96 0 0 ... 0.0850942999124527 -0.006312704086303711\n",
      "  -0.014720835583284497]]\n"
     ]
    }
   ],
   "source": [
    "print(Xy)"
   ]
  },
  {
   "cell_type": "code",
   "execution_count": 12,
   "metadata": {},
   "outputs": [],
   "source": [
    "X = Xy[:, 1:]\n",
    "y = Xy[:, 0]\n"
   ]
  },
  {
   "cell_type": "markdown",
   "metadata": {},
   "source": [
    "## Split train test data"
   ]
  },
  {
   "cell_type": "code",
   "execution_count": 13,
   "metadata": {},
   "outputs": [
    {
     "name": "stdout",
     "output_type": "stream",
     "text": [
      "(7140, 513) (3063, 513) (7140,) (3063,)\n",
      "(array([], dtype=int64), array([], dtype=int64))\n"
     ]
    }
   ],
   "source": [
    "num_train = len(Xy) // 10 * 7\n",
    "\n",
    "Xtrain = X[:num_train]\n",
    "Xtest = X[num_train:]\n",
    "ytrain = y[:num_train]\n",
    "ytest = y[num_train:]\n",
    "print(Xtrain.shape, Xtest.shape, ytrain.shape, ytest.shape)\n",
    "print(np.where(Xy=='nan'))"
   ]
  },
  {
   "cell_type": "markdown",
   "metadata": {},
   "source": [
    "## Test data with multiple linear regression"
   ]
  },
  {
   "cell_type": "code",
   "execution_count": 14,
   "metadata": {},
   "outputs": [],
   "source": [
    "import scipy as sp\n",
    "import scipy.sparse.linalg\n",
    "import math"
   ]
  },
  {
   "cell_type": "code",
   "execution_count": 15,
   "metadata": {},
   "outputs": [
    {
     "name": "stdout",
     "output_type": "stream",
     "text": [
      "(513,)\n"
     ]
    }
   ],
   "source": [
    "out = sp.sparse.linalg.lsqr(Xtrain,ytrain)\n",
    "beta = out[0]\n",
    "print(beta.shape)"
   ]
  },
  {
   "cell_type": "markdown",
   "metadata": {},
   "source": [
    "## Compute Baseline"
   ]
  },
  {
   "cell_type": "code",
   "execution_count": 16,
   "metadata": {},
   "outputs": [
    {
     "name": "stdout",
     "output_type": "stream",
     "text": [
      "multiple variable loss=2.24e+01\n"
     ]
    }
   ],
   "source": [
    "yBaseline = np.ones(len(ytest)) * np.mean(ytrain)\n",
    "errs = np.array(abs(ytest - yBaseline))\n",
    "loss = np.sum(errs)\n",
    "avgL = loss/len(ytest)\n",
    "print(\"multiple variable loss=\"+\"{:.2e}\".format(avgL))"
   ]
  },
  {
   "cell_type": "code",
   "execution_count": 17,
   "metadata": {},
   "outputs": [],
   "source": [
    "## Compute loss with linear regression"
   ]
  },
  {
   "cell_type": "code",
   "execution_count": 18,
   "metadata": {},
   "outputs": [
    {
     "name": "stdout",
     "output_type": "stream",
     "text": [
      "[[0 0 1 ... -0.012236664863303305 -0.0187341008335352\n",
      "  0.012150854244828223]\n",
      " [0 0 1 ... 0.029344024229794742 0.03323996104300022 -0.03156232042238116]\n",
      " [0 0 0 ... 0.00985959842801094 0.03081499636173248 0.009103235136717559]\n",
      " ...\n",
      " [0 0 1 ... 0.039271814282983535 0.03507877103984356 0.00484479907900095]\n",
      " [1 0 0 ... 0.08566247075796128 -0.05540984738618136\n",
      "  -0.004844885074999183]\n",
      " [0 0 0 ... 0.0850942999124527 -0.006312704086303711\n",
      "  -0.014720835583284497]]\n",
      "multiple variable loss=2.03e+01\n"
     ]
    }
   ],
   "source": [
    "print(Xtest)\n",
    "yp = Xtest@beta\n",
    "errs = np.array(abs(ytest - yp))\n",
    "avgL = np.mean(errs)\n",
    "\n",
    "\n",
    "print(\"multiple variable loss=\"+\"{:.2e}\".format(avgL))\n",
    "\n",
    "arr = []\n",
    "for i in range(len(ytest)):\n",
    "    arr.append(abs(yp[i]-ytest[i]))\n",
    "arr.sort(reverse = True)\n"
   ]
  },
  {
   "cell_type": "code",
   "execution_count": 19,
   "metadata": {},
   "outputs": [
    {
     "name": "stdout",
     "output_type": "stream",
     "text": [
      "<class 'int'>\n"
     ]
    }
   ],
   "source": [
    "print(type(Xtest[-1][2]))"
   ]
  },
  {
   "cell_type": "code",
   "execution_count": 20,
   "metadata": {},
   "outputs": [],
   "source": [
    "import matplotlib.pyplot as plt\n",
    "\n"
   ]
  },
  {
   "cell_type": "code",
   "execution_count": 21,
   "metadata": {},
   "outputs": [
    {
     "data": {
      "image/png": "[encoded data removed]",
      "text/plain": [
       "<Figure size 432x288 with 1 Axes>"
      ]
     },
     "metadata": {
      "needs_background": "light"
     },
     "output_type": "display_data"
    }
   ],
   "source": [
    "\n",
    "\n",
    "plt.plot(yp, label = \"yp\")\n",
    "plt.plot(ytest, label = \"ytest\")\n",
    "plt.legend(loc=\"upper left\")\n",
    "axes = plt.gca()\n",
    "#axes.set_xlim([0,500])\n",
    "#axes.set_ylim([0,150])\n",
    "plt.show()"
   ]
  },
  {
   "cell_type": "code",
   "execution_count": 22,
   "metadata": {},
   "outputs": [
    {
     "data": {
      "text/plain": [
       "[<matplotlib.lines.Line2D at 0x133200790>]"
      ]
     },
     "execution_count": 22,
     "metadata": {},
     "output_type": "execute_result"
    },
    {
     "data": {
      "image/png": "[encoded data removed]",
      "text/plain": [
       "<Figure size 432x288 with 1 Axes>"
      ]
     },
     "metadata": {
      "needs_background": "light"
     },
     "output_type": "display_data"
    }
   ],
   "source": [
    "plt.plot(errs)"
   ]
  },
  {
   "cell_type": "code",
   "execution_count": 23,
   "metadata": {},
   "outputs": [
    {
     "name": "stdout",
     "output_type": "stream",
     "text": [
      "20.338622799882195\n"
     ]
    }
   ],
   "source": [
    "print(np.mean(errs))"
   ]
  },
  {
   "cell_type": "code",
   "execution_count": null,
   "metadata": {},
   "outputs": [],
   "source": []
  },
  {
   "cell_type": "code",
   "execution_count": null,
   "metadata": {},
   "outputs": [],
   "source": []
  }
 ],
 "metadata": {
  "kernelspec": {
   "display_name": "Python 3",
   "language": "python",
   "name": "python3"
  },
  "language_info": {
   "codemirror_mode": {
    "name": "ipython",
    "version": 3
   },
   "file_extension": ".py",
   "mimetype": "text/x-python",
   "name": "python",
   "nbconvert_exporter": "python",
   "pygments_lexer": "ipython3",
   "version": "3.8.2"
  }
 },
 "nbformat": 4,
 "nbformat_minor": 4
}
