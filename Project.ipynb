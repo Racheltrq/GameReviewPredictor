{
 "cells": [
  {
   "cell_type": "markdown",
   "metadata": {},
   "source": [
    "## Loading Data from local file"
   ]
  },
  {
   "cell_type": "code",
   "execution_count": 2,
   "metadata": {},
   "outputs": [],
   "source": [
    "import pandas as pd\n",
    "import numpy as np"
   ]
  },
  {
   "cell_type": "code",
   "execution_count": 3,
   "metadata": {},
   "outputs": [],
   "source": [
    "df = pd.read_csv('./XYmat.csv')"
   ]
  },
  {
   "cell_type": "code",
   "execution_count": 21,
   "metadata": {},
   "outputs": [
    {
     "data": {
      "text/html": [
       "<div>\n",
       "<style scoped>\n",
       "    .dataframe tbody tr th:only-of-type {\n",
       "        vertical-align: middle;\n",
       "    }\n",
       "\n",
       "    .dataframe tbody tr th {\n",
       "        vertical-align: top;\n",
       "    }\n",
       "\n",
       "    .dataframe thead th {\n",
       "        text-align: right;\n",
       "    }\n",
       "</style>\n",
       "<table border=\"1\" class=\"dataframe\">\n",
       "  <thead>\n",
       "    <tr style=\"text-align: right;\">\n",
       "      <th></th>\n",
       "      <th>name</th>\n",
       "      <th>reviews</th>\n",
       "      <th>Dungeons &amp; Dragons</th>\n",
       "      <th>Dynamic Narration</th>\n",
       "      <th>Hacking</th>\n",
       "      <th>Otome</th>\n",
       "      <th>Benchmark</th>\n",
       "      <th>Western</th>\n",
       "      <th>Lemmings</th>\n",
       "      <th>Mystery</th>\n",
       "      <th>...</th>\n",
       "      <th>Futuristic</th>\n",
       "      <th>World War II</th>\n",
       "      <th>Match 3</th>\n",
       "      <th>Illuminati</th>\n",
       "      <th>Modern</th>\n",
       "      <th>Competitive</th>\n",
       "      <th>Hardware</th>\n",
       "      <th>Choices Matter</th>\n",
       "      <th>Violent</th>\n",
       "      <th>Artificial Intelligence</th>\n",
       "    </tr>\n",
       "  </thead>\n",
       "  <tbody>\n",
       "    <tr>\n",
       "      <th>0</th>\n",
       "      <td>PLAYERUNKNOWN'S BATTLEGROUNDS</td>\n",
       "      <td>92</td>\n",
       "      <td>0</td>\n",
       "      <td>0</td>\n",
       "      <td>0</td>\n",
       "      <td>0</td>\n",
       "      <td>0</td>\n",
       "      <td>0</td>\n",
       "      <td>0</td>\n",
       "      <td>0</td>\n",
       "      <td>...</td>\n",
       "      <td>0</td>\n",
       "      <td>0</td>\n",
       "      <td>0</td>\n",
       "      <td>0</td>\n",
       "      <td>0</td>\n",
       "      <td>1</td>\n",
       "      <td>0</td>\n",
       "      <td>0</td>\n",
       "      <td>0</td>\n",
       "      <td>0</td>\n",
       "    </tr>\n",
       "    <tr>\n",
       "      <th>1</th>\n",
       "      <td>BATTLETECH</td>\n",
       "      <td>49</td>\n",
       "      <td>0</td>\n",
       "      <td>0</td>\n",
       "      <td>0</td>\n",
       "      <td>0</td>\n",
       "      <td>0</td>\n",
       "      <td>0</td>\n",
       "      <td>0</td>\n",
       "      <td>0</td>\n",
       "      <td>...</td>\n",
       "      <td>1</td>\n",
       "      <td>0</td>\n",
       "      <td>0</td>\n",
       "      <td>0</td>\n",
       "      <td>0</td>\n",
       "      <td>0</td>\n",
       "      <td>0</td>\n",
       "      <td>0</td>\n",
       "      <td>0</td>\n",
       "      <td>0</td>\n",
       "    </tr>\n",
       "    <tr>\n",
       "      <th>2</th>\n",
       "      <td>DayZ</td>\n",
       "      <td>71</td>\n",
       "      <td>0</td>\n",
       "      <td>0</td>\n",
       "      <td>0</td>\n",
       "      <td>0</td>\n",
       "      <td>0</td>\n",
       "      <td>0</td>\n",
       "      <td>0</td>\n",
       "      <td>0</td>\n",
       "      <td>...</td>\n",
       "      <td>0</td>\n",
       "      <td>0</td>\n",
       "      <td>0</td>\n",
       "      <td>0</td>\n",
       "      <td>0</td>\n",
       "      <td>0</td>\n",
       "      <td>0</td>\n",
       "      <td>0</td>\n",
       "      <td>0</td>\n",
       "      <td>0</td>\n",
       "    </tr>\n",
       "    <tr>\n",
       "      <th>3</th>\n",
       "      <td>EVE Online</td>\n",
       "      <td>61</td>\n",
       "      <td>0</td>\n",
       "      <td>0</td>\n",
       "      <td>0</td>\n",
       "      <td>0</td>\n",
       "      <td>0</td>\n",
       "      <td>0</td>\n",
       "      <td>0</td>\n",
       "      <td>0</td>\n",
       "      <td>...</td>\n",
       "      <td>0</td>\n",
       "      <td>0</td>\n",
       "      <td>0</td>\n",
       "      <td>0</td>\n",
       "      <td>0</td>\n",
       "      <td>0</td>\n",
       "      <td>0</td>\n",
       "      <td>0</td>\n",
       "      <td>0</td>\n",
       "      <td>0</td>\n",
       "    </tr>\n",
       "    <tr>\n",
       "      <th>4</th>\n",
       "      <td>Grand Theft Auto V: Premium Online Edition</td>\n",
       "      <td>74</td>\n",
       "      <td>0</td>\n",
       "      <td>0</td>\n",
       "      <td>0</td>\n",
       "      <td>0</td>\n",
       "      <td>0</td>\n",
       "      <td>0</td>\n",
       "      <td>0</td>\n",
       "      <td>0</td>\n",
       "      <td>...</td>\n",
       "      <td>0</td>\n",
       "      <td>0</td>\n",
       "      <td>0</td>\n",
       "      <td>0</td>\n",
       "      <td>0</td>\n",
       "      <td>0</td>\n",
       "      <td>0</td>\n",
       "      <td>0</td>\n",
       "      <td>0</td>\n",
       "      <td>0</td>\n",
       "    </tr>\n",
       "  </tbody>\n",
       "</table>\n",
       "<p>5 rows × 383 columns</p>\n",
       "</div>"
      ],
      "text/plain": [
       "                                         name  reviews  Dungeons & Dragons  \\\n",
       "0               PLAYERUNKNOWN'S BATTLEGROUNDS       92                   0   \n",
       "1                                  BATTLETECH       49                   0   \n",
       "2                                        DayZ       71                   0   \n",
       "3                                  EVE Online       61                   0   \n",
       "4  Grand Theft Auto V: Premium Online Edition       74                   0   \n",
       "\n",
       "   Dynamic Narration  Hacking  Otome  Benchmark  Western  Lemmings  Mystery  \\\n",
       "0                  0        0      0          0        0         0        0   \n",
       "1                  0        0      0          0        0         0        0   \n",
       "2                  0        0      0          0        0         0        0   \n",
       "3                  0        0      0          0        0         0        0   \n",
       "4                  0        0      0          0        0         0        0   \n",
       "\n",
       "   ...  Futuristic  World War II  Match 3  Illuminati  Modern  Competitive  \\\n",
       "0  ...           0             0        0           0       0            1   \n",
       "1  ...           1             0        0           0       0            0   \n",
       "2  ...           0             0        0           0       0            0   \n",
       "3  ...           0             0        0           0       0            0   \n",
       "4  ...           0             0        0           0       0            0   \n",
       "\n",
       "   Hardware  Choices Matter  Violent  Artificial Intelligence  \n",
       "0         0               0        0                        0  \n",
       "1         0               0        0                        0  \n",
       "2         0               0        0                        0  \n",
       "3         0               0        0                        0  \n",
       "4         0               0        0                        0  \n",
       "\n",
       "[5 rows x 383 columns]"
      ]
     },
     "execution_count": 21,
     "metadata": {},
     "output_type": "execute_result"
    }
   ],
   "source": [
    "df.head(5)"
   ]
  },
  {
   "cell_type": "code",
   "execution_count": null,
   "metadata": {},
   "outputs": [],
   "source": [
    "df.columns"
   ]
  },
  {
   "cell_type": "code",
   "execution_count": 8,
   "metadata": {},
   "outputs": [
    {
     "data": {
      "text/plain": [
       "RangeIndex(start=0, stop=17371, step=1)"
      ]
     },
     "execution_count": 8,
     "metadata": {},
     "output_type": "execute_result"
    }
   ],
   "source": [
    "df.index"
   ]
  },
  {
   "cell_type": "code",
   "execution_count": 9,
   "metadata": {},
   "outputs": [
    {
     "data": {
      "text/plain": [
       "array([[\"PLAYERUNKNOWN'S BATTLEGROUNDS\", 92, 0, ..., 0, 0, 0],\n",
       "       ['BATTLETECH', 49, 0, ..., 0, 0, 0],\n",
       "       ['DayZ', 71, 0, ..., 0, 0, 0],\n",
       "       ...,\n",
       "       ['Rivals of Aether: Summit Orcane', 90, 0, ..., 0, 0, 0],\n",
       "       ['Space Cat', 70, 0, ..., 0, 0, 0],\n",
       "       ['White Day - Horror Costume - Ji-Min Yoo', 28, 0, ..., 0, 0, 0]],\n",
       "      dtype=object)"
      ]
     },
     "execution_count": 9,
     "metadata": {},
     "output_type": "execute_result"
    }
   ],
   "source": [
    "df.values"
   ]
  },
  {
   "cell_type": "code",
   "execution_count": 62,
   "metadata": {},
   "outputs": [
    {
     "name": "stdout",
     "output_type": "stream",
     "text": [
      "[[0 0 0 ... 0 0 0]\n",
      " [0 0 0 ... 0 0 0]\n",
      " [0 0 0 ... 0 0 0]\n",
      " ...\n",
      " [0 0 0 ... 0 0 0]\n",
      " [0 0 0 ... 0 0 0]\n",
      " [0 0 0 ... 0 0 0]]\n"
     ]
    }
   ],
   "source": [
    "y = df['reviews'].values\n",
    "array = df.to_numpy()\n",
    "X = array[:, 2:]\n",
    "print(X)"
   ]
  },
  {
   "cell_type": "markdown",
   "metadata": {},
   "source": [
    "## Split train test data"
   ]
  },
  {
   "cell_type": "code",
   "execution_count": 63,
   "metadata": {},
   "outputs": [
    {
     "name": "stdout",
     "output_type": "stream",
     "text": [
      "(12160, 381) (5211, 381) (12160,) (5211,)\n"
     ]
    }
   ],
   "source": [
    "Xtrain = X[:12160]\n",
    "Xtest = X[12160:]\n",
    "ytrain = y[:12160]\n",
    "ytest = y[12160:]\n",
    "print(Xtrain.shape, Xtest.shape, ytrain.shape, ytest.shape)"
   ]
  },
  {
   "cell_type": "markdown",
   "metadata": {},
   "source": [
    "## Test data with multiple linear regression"
   ]
  },
  {
   "cell_type": "code",
   "execution_count": 71,
   "metadata": {},
   "outputs": [],
   "source": [
    "import scipy as sp\n",
    "import scipy.sparse.linalg\n",
    "import math"
   ]
  },
  {
   "cell_type": "code",
   "execution_count": 72,
   "metadata": {},
   "outputs": [
    {
     "name": "stdout",
     "output_type": "stream",
     "text": [
      "(381,)\n"
     ]
    }
   ],
   "source": [
    "out = sp.sparse.linalg.lsqr(Xtrain,ytrain)\n",
    "beta = out[0]\n",
    "print(beta.shape)"
   ]
  },
  {
   "cell_type": "markdown",
   "metadata": {},
   "source": [
    "## Compute Baseline"
   ]
  },
  {
   "cell_type": "code",
   "execution_count": 85,
   "metadata": {},
   "outputs": [
    {
     "name": "stdout",
     "output_type": "stream",
     "text": [
      "multiple variable loss=2.85e+01\n"
     ]
    }
   ],
   "source": [
    "yBaseline = np.ones(len(ytest)) * np.mean(ytrain)\n",
    "errs = np.array(abs(ytest - yBaseline))\n",
    "loss = np.sum(errs)\n",
    "avgL = loss/len(ytest)\n",
    "print(\"multiple variable loss=\"+\"{:.2e}\".format(avgL))"
   ]
  },
  {
   "cell_type": "code",
   "execution_count": 86,
   "metadata": {},
   "outputs": [],
   "source": [
    "## Compute loss with linear regression"
   ]
  },
  {
   "cell_type": "code",
   "execution_count": 87,
   "metadata": {},
   "outputs": [
    {
     "name": "stdout",
     "output_type": "stream",
     "text": [
      "multiple variable loss=2.65e+01\n"
     ]
    }
   ],
   "source": [
    "yp = np.dot(Xtest,beta)\n",
    "errs = np.array(abs(ytest - yp))\n",
    "loss = np.sum(errs)\n",
    "avgL = loss/len(ytest)\n",
    "\n",
    "print(\"multiple variable loss=\"+\"{:.2e}\".format(avgL))\n",
    "#for i in range(50):\n",
    "    #print(ytest[i], yp[i], abs(yp[i]-ytest[i]))"
   ]
  },
  {
   "cell_type": "code",
   "execution_count": null,
   "metadata": {},
   "outputs": [],
   "source": []
  }
 ],
 "metadata": {
  "kernelspec": {
   "display_name": "Python 3",
   "language": "python",
   "name": "python3"
  },
  "language_info": {
   "codemirror_mode": {
    "name": "ipython",
    "version": 3
   },
   "file_extension": ".py",
   "mimetype": "text/x-python",
   "name": "python",
   "nbconvert_exporter": "python",
   "pygments_lexer": "ipython3",
   "version": "3.8.2"
  }
 },
 "nbformat": 4,
 "nbformat_minor": 4
}
