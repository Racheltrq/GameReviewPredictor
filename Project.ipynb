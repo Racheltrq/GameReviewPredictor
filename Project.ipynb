{
 "cells": [
  {
   "cell_type": "markdown",
   "metadata": {},
   "source": [
    "## Loading Data from local file"
   ]
  },
  {
   "cell_type": "code",
   "execution_count": 2,
   "metadata": {},
   "outputs": [],
   "source": [
    "import pandas as pd\n",
    "import numpy as np"
   ]
  },
  {
   "cell_type": "code",
   "execution_count": 3,
   "metadata": {},
   "outputs": [],
   "source": [
    "df = pd.read_csv('./XYmat.csv')"
   ]
  },
  {
   "cell_type": "code",
   "execution_count": 21,
   "metadata": {},
   "outputs": [
    {
     "data": {
      "text/html": [
       "<div>\n",
       "<style scoped>\n",
       "    .dataframe tbody tr th:only-of-type {\n",
       "        vertical-align: middle;\n",
       "    }\n",
       "\n",
       "    .dataframe tbody tr th {\n",
       "        vertical-align: top;\n",
       "    }\n",
       "\n",
       "    .dataframe thead th {\n",
       "        text-align: right;\n",
       "    }\n",
       "</style>\n",
       "<table border=\"1\" class=\"dataframe\">\n",
       "  <thead>\n",
       "    <tr style=\"text-align: right;\">\n",
       "      <th></th>\n",
       "      <th>name</th>\n",
       "      <th>reviews</th>\n",
       "      <th>Dungeons &amp; Dragons</th>\n",
       "      <th>Dynamic Narration</th>\n",
       "      <th>Hacking</th>\n",
       "      <th>Otome</th>\n",
       "      <th>Benchmark</th>\n",
       "      <th>Western</th>\n",
       "      <th>Lemmings</th>\n",
       "      <th>Mystery</th>\n",
       "      <th>...</th>\n",
       "      <th>Futuristic</th>\n",
       "      <th>World War II</th>\n",
       "      <th>Match 3</th>\n",
       "      <th>Illuminati</th>\n",
       "      <th>Modern</th>\n",
       "      <th>Competitive</th>\n",
       "      <th>Hardware</th>\n",
       "      <th>Choices Matter</th>\n",
       "      <th>Violent</th>\n",
       "      <th>Artificial Intelligence</th>\n",
       "    </tr>\n",
       "  </thead>\n",
       "  <tbody>\n",
       "    <tr>\n",
       "      <th>0</th>\n",
       "      <td>PLAYERUNKNOWN'S BATTLEGROUNDS</td>\n",
       "      <td>92</td>\n",
       "      <td>0</td>\n",
       "      <td>0</td>\n",
       "      <td>0</td>\n",
       "      <td>0</td>\n",
       "      <td>0</td>\n",
       "      <td>0</td>\n",
       "      <td>0</td>\n",
       "      <td>0</td>\n",
       "      <td>...</td>\n",
       "      <td>0</td>\n",
       "      <td>0</td>\n",
       "      <td>0</td>\n",
       "      <td>0</td>\n",
       "      <td>0</td>\n",
       "      <td>1</td>\n",
       "      <td>0</td>\n",
       "      <td>0</td>\n",
       "      <td>0</td>\n",
       "      <td>0</td>\n",
       "    </tr>\n",
       "    <tr>\n",
       "      <th>1</th>\n",
       "      <td>BATTLETECH</td>\n",
       "      <td>49</td>\n",
       "      <td>0</td>\n",
       "      <td>0</td>\n",
       "      <td>0</td>\n",
       "      <td>0</td>\n",
       "      <td>0</td>\n",
       "      <td>0</td>\n",
       "      <td>0</td>\n",
       "      <td>0</td>\n",
       "      <td>...</td>\n",
       "      <td>1</td>\n",
       "      <td>0</td>\n",
       "      <td>0</td>\n",
       "      <td>0</td>\n",
       "      <td>0</td>\n",
       "      <td>0</td>\n",
       "      <td>0</td>\n",
       "      <td>0</td>\n",
       "      <td>0</td>\n",
       "      <td>0</td>\n",
       "    </tr>\n",
       "    <tr>\n",
       "      <th>2</th>\n",
       "      <td>DayZ</td>\n",
       "      <td>71</td>\n",
       "      <td>0</td>\n",
       "      <td>0</td>\n",
       "      <td>0</td>\n",
       "      <td>0</td>\n",
       "      <td>0</td>\n",
       "      <td>0</td>\n",
       "      <td>0</td>\n",
       "      <td>0</td>\n",
       "      <td>...</td>\n",
       "      <td>0</td>\n",
       "      <td>0</td>\n",
       "      <td>0</td>\n",
       "      <td>0</td>\n",
       "      <td>0</td>\n",
       "      <td>0</td>\n",
       "      <td>0</td>\n",
       "      <td>0</td>\n",
       "      <td>0</td>\n",
       "      <td>0</td>\n",
       "    </tr>\n",
       "    <tr>\n",
       "      <th>3</th>\n",
       "      <td>EVE Online</td>\n",
       "      <td>61</td>\n",
       "      <td>0</td>\n",
       "      <td>0</td>\n",
       "      <td>0</td>\n",
       "      <td>0</td>\n",
       "      <td>0</td>\n",
       "      <td>0</td>\n",
       "      <td>0</td>\n",
       "      <td>0</td>\n",
       "      <td>...</td>\n",
       "      <td>0</td>\n",
       "      <td>0</td>\n",
       "      <td>0</td>\n",
       "      <td>0</td>\n",
       "      <td>0</td>\n",
       "      <td>0</td>\n",
       "      <td>0</td>\n",
       "      <td>0</td>\n",
       "      <td>0</td>\n",
       "      <td>0</td>\n",
       "    </tr>\n",
       "    <tr>\n",
       "      <th>4</th>\n",
       "      <td>Grand Theft Auto V: Premium Online Edition</td>\n",
       "      <td>74</td>\n",
       "      <td>0</td>\n",
       "      <td>0</td>\n",
       "      <td>0</td>\n",
       "      <td>0</td>\n",
       "      <td>0</td>\n",
       "      <td>0</td>\n",
       "      <td>0</td>\n",
       "      <td>0</td>\n",
       "      <td>...</td>\n",
       "      <td>0</td>\n",
       "      <td>0</td>\n",
       "      <td>0</td>\n",
       "      <td>0</td>\n",
       "      <td>0</td>\n",
       "      <td>0</td>\n",
       "      <td>0</td>\n",
       "      <td>0</td>\n",
       "      <td>0</td>\n",
       "      <td>0</td>\n",
       "    </tr>\n",
       "  </tbody>\n",
       "</table>\n",
       "<p>5 rows × 383 columns</p>\n",
       "</div>"
      ],
      "text/plain": [
       "                                         name  reviews  Dungeons & Dragons  \\\n",
       "0               PLAYERUNKNOWN'S BATTLEGROUNDS       92                   0   \n",
       "1                                  BATTLETECH       49                   0   \n",
       "2                                        DayZ       71                   0   \n",
       "3                                  EVE Online       61                   0   \n",
       "4  Grand Theft Auto V: Premium Online Edition       74                   0   \n",
       "\n",
       "   Dynamic Narration  Hacking  Otome  Benchmark  Western  Lemmings  Mystery  \\\n",
       "0                  0        0      0          0        0         0        0   \n",
       "1                  0        0      0          0        0         0        0   \n",
       "2                  0        0      0          0        0         0        0   \n",
       "3                  0        0      0          0        0         0        0   \n",
       "4                  0        0      0          0        0         0        0   \n",
       "\n",
       "   ...  Futuristic  World War II  Match 3  Illuminati  Modern  Competitive  \\\n",
       "0  ...           0             0        0           0       0            1   \n",
       "1  ...           1             0        0           0       0            0   \n",
       "2  ...           0             0        0           0       0            0   \n",
       "3  ...           0             0        0           0       0            0   \n",
       "4  ...           0             0        0           0       0            0   \n",
       "\n",
       "   Hardware  Choices Matter  Violent  Artificial Intelligence  \n",
       "0         0               0        0                        0  \n",
       "1         0               0        0                        0  \n",
       "2         0               0        0                        0  \n",
       "3         0               0        0                        0  \n",
       "4         0               0        0                        0  \n",
       "\n",
       "[5 rows x 383 columns]"
      ]
     },
     "execution_count": 21,
     "metadata": {},
     "output_type": "execute_result"
    }
   ],
   "source": [
    "df.head(5)"
   ]
  },
  {
   "cell_type": "code",
   "execution_count": null,
   "metadata": {},
   "outputs": [],
   "source": [
    "df.columns"
   ]
  },
  {
   "cell_type": "code",
   "execution_count": 8,
   "metadata": {},
   "outputs": [
    {
     "data": {
      "text/plain": [
       "RangeIndex(start=0, stop=17371, step=1)"
      ]
     },
     "execution_count": 8,
     "metadata": {},
     "output_type": "execute_result"
    }
   ],
   "source": [
    "df.index"
   ]
  },
  {
   "cell_type": "code",
   "execution_count": 9,
   "metadata": {},
   "outputs": [
    {
     "data": {
      "text/plain": [
       "array([[\"PLAYERUNKNOWN'S BATTLEGROUNDS\", 92, 0, ..., 0, 0, 0],\n",
       "       ['BATTLETECH', 49, 0, ..., 0, 0, 0],\n",
       "       ['DayZ', 71, 0, ..., 0, 0, 0],\n",
       "       ...,\n",
       "       ['Rivals of Aether: Summit Orcane', 90, 0, ..., 0, 0, 0],\n",
       "       ['Space Cat', 70, 0, ..., 0, 0, 0],\n",
       "       ['White Day - Horror Costume - Ji-Min Yoo', 28, 0, ..., 0, 0, 0]],\n",
       "      dtype=object)"
      ]
     },
     "execution_count": 9,
     "metadata": {},
     "output_type": "execute_result"
    }
   ],
   "source": [
    "df.values"
   ]
  },
  {
   "cell_type": "code",
   "execution_count": 62,
   "metadata": {},
   "outputs": [
    {
     "name": "stdout",
     "output_type": "stream",
     "text": [
      "[[0 0 0 ... 0 0 0]\n",
      " [0 0 0 ... 0 0 0]\n",
      " [0 0 0 ... 0 0 0]\n",
      " ...\n",
      " [0 0 0 ... 0 0 0]\n",
      " [0 0 0 ... 0 0 0]\n",
      " [0 0 0 ... 0 0 0]]\n"
     ]
    }
   ],
   "source": [
    "y = df['reviews'].values\n",
    "array = df.to_numpy()\n",
    "X = array[:, 2:]\n",
    "print(X)"
   ]
  },
  {
   "cell_type": "markdown",
   "metadata": {},
   "source": [
    "## Split train test data"
   ]
  },
  {
   "cell_type": "code",
   "execution_count": 63,
   "metadata": {},
   "outputs": [
    {
     "name": "stdout",
     "output_type": "stream",
     "text": [
      "(12160, 381) (5211, 381) (12160,) (5211,)\n"
     ]
    }
   ],
   "source": [
    "Xtrain = X[:12160]\n",
    "Xtest = X[12160:]\n",
    "ytrain = y[:12160]\n",
    "ytest = y[12160:]\n",
    "print(Xtrain.shape, Xtest.shape, ytrain.shape, ytest.shape)"
   ]
  },
  {
   "cell_type": "markdown",
   "metadata": {},
   "source": [
    "## Test data with multiple linear regression"
   ]
  },
  {
   "cell_type": "code",
   "execution_count": 71,
   "metadata": {},
   "outputs": [],
   "source": [
    "import scipy as sp\n",
    "import scipy.sparse.linalg\n",
    "import math"
   ]
  },
  {
   "cell_type": "code",
   "execution_count": 72,
   "metadata": {},
   "outputs": [
    {
     "name": "stdout",
     "output_type": "stream",
     "text": [
      "(381,)\n"
     ]
    }
   ],
   "source": [
    "out = sp.sparse.linalg.lsqr(Xtrain,ytrain)\n",
    "beta = out[0]\n",
    "print(beta.shape)"
   ]
  },
  {
   "cell_type": "markdown",
   "metadata": {},
   "source": [
    "## Compute Baseline"
   ]
  },
  {
   "cell_type": "code",
   "execution_count": 85,
   "metadata": {},
   "outputs": [
    {
     "name": "stdout",
     "output_type": "stream",
     "text": [
      "multiple variable loss=2.85e+01\n"
     ]
    }
   ],
   "source": [
    "yBaseline = np.ones(len(ytest)) * np.mean(ytrain)\n",
    "errs = np.array(abs(ytest - yBaseline))\n",
    "loss = np.sum(errs)\n",
    "avgL = loss/len(ytest)\n",
    "print(\"multiple variable loss=\"+\"{:.2e}\".format(avgL))"
   ]
  },
  {
   "cell_type": "code",
   "execution_count": null,
   "metadata": {},
   "outputs": [],
   "source": [
    "## "
   ]
  },
  {
   "cell_type": "code",
   "execution_count": 79,
   "metadata": {},
   "outputs": [
    {
     "name": "stdout",
     "output_type": "stream",
     "text": [
      "multiple variable loss=2.65e+01\n",
      "75 66.88346038409163 8.116539615908366\n",
      "70 67.56845067598267 2.4315493240173254\n",
      "79 94.29443959262494 15.29443959262494\n",
      "77 27.327110195429903 49.6728898045701\n",
      "71 70.53734822416538 0.46265177583461536\n",
      "78 45.54536602941934 32.45463397058066\n",
      "71 103.13783266619402 32.137832666194015\n",
      "79 48.738699188088 30.261300811912\n",
      "77 66.00062352451604 10.999376475483956\n",
      "75 72.57730156806224 2.4226984319377607\n",
      "79 11.857866846952115 67.14213315304788\n",
      "77 40.03540058331781 36.96459941668219\n",
      "76 39.5013891264449 36.4986108735551\n",
      "75 18.94017999438423 56.05982000561577\n",
      "78 17.854063981236052 60.14593601876395\n",
      "77 11.857866846952115 65.14213315304788\n",
      "77 11.857866846952115 65.14213315304788\n",
      "78 47.58284023987652 30.417159760123482\n",
      "77 45.56259280271968 31.437407197280322\n",
      "75 21.19885550013045 53.80114449986955\n",
      "76 23.054814262200296 52.945185737799704\n",
      "75 48.56139779972086 26.438602200279142\n",
      "73 60.91239516096326 12.087604839036743\n",
      "78 76.85999309950097 1.1400069004990314\n",
      "76 111.57498300744503 35.57498300744503\n",
      "72 88.73201633550434 16.73201633550434\n",
      "79 59.75127732514299 19.248722674857007\n",
      "72 96.92937115463117 24.92937115463117\n",
      "78 45.928878275475995 32.071121724524005\n",
      "78 52.89063500913835 25.10936499086165\n",
      "72 45.36688129075081 26.63311870924919\n",
      "70 101.88461276159023 31.884612761590233\n",
      "76 74.30288322093942 1.697116779060579\n",
      "74 32.035383561768796 41.964616438231204\n",
      "75 116.7056086367035 41.7056086367035\n",
      "74 81.1398319436666 7.139831943666593\n",
      "70 100.11484364550705 30.11484364550705\n",
      "70 31.71641352343652 38.283586476563485\n",
      "78 21.433265715893526 56.566734284106474\n",
      "78 81.90027846226937 3.9002784622693696\n",
      "70 21.433265715893526 48.566734284106474\n",
      "75 31.877959847036585 43.122040152963415\n",
      "73 44.01648640613777 28.983513593862227\n",
      "70 110.55143822461173 40.55143822461173\n",
      "74 64.70687133093436 9.293128669065638\n",
      "79 48.242585368245756 30.757414631754244\n",
      "71 34.77876036712546 36.22123963287454\n",
      "79 50.31808409485355 28.681915905146447\n",
      "74 59.30481682200352 14.695183177996483\n",
      "73 50.31808409485355 22.681915905146447\n"
     ]
    }
   ],
   "source": [
    "yp = np.dot(Xtest,beta)\n",
    "errs = np.array(abs(ytest - yp))\n",
    "loss = np.sum(errs)\n",
    "avgL = loss/len(ytest)\n",
    "\n",
    "print(\"multiple variable loss=\"+\"{:.2e}\".format(avgL))\n",
    "for i in range(50):\n",
    "    print(ytest[i], yp[i], abs(yp[i]-ytest[i]))"
   ]
  },
  {
   "cell_type": "code",
   "execution_count": null,
   "metadata": {},
   "outputs": [],
   "source": []
  }
 ],
 "metadata": {
  "kernelspec": {
   "display_name": "Python 3",
   "language": "python",
   "name": "python3"
  },
  "language_info": {
   "codemirror_mode": {
    "name": "ipython",
    "version": 3
   },
   "file_extension": ".py",
   "mimetype": "text/x-python",
   "name": "python",
   "nbconvert_exporter": "python",
   "pygments_lexer": "ipython3",
   "version": "3.8.2"
  }
 },
 "nbformat": 4,
 "nbformat_minor": 4
}
