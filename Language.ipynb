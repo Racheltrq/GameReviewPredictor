{
 "cells": [
  {
   "cell_type": "markdown",
   "metadata": {},
   "source": [
    "## Loading Data from local file"
   ]
  },
  {
   "cell_type": "markdown",
   "metadata": {},
   "source": [
    "Testing basic models with newly added language-related features."
   ]
  },
  {
   "cell_type": "code",
   "execution_count": 1,
   "metadata": {},
   "outputs": [],
   "source": [
    "import pandas as pd\n",
    "import numpy as np"
   ]
  },
  {
   "cell_type": "code",
   "execution_count": 2,
   "metadata": {},
   "outputs": [],
   "source": [
    "df = pd.read_csv('./XYmat_lang.csv')"
   ]
  },
  {
   "cell_type": "code",
   "execution_count": 3,
   "metadata": {},
   "outputs": [
    {
     "data": {
      "text/html": [
       "<div>\n",
       "<style scoped>\n",
       "    .dataframe tbody tr th:only-of-type {\n",
       "        vertical-align: middle;\n",
       "    }\n",
       "\n",
       "    .dataframe tbody tr th {\n",
       "        vertical-align: top;\n",
       "    }\n",
       "\n",
       "    .dataframe thead th {\n",
       "        text-align: right;\n",
       "    }\n",
       "</style>\n",
       "<table border=\"1\" class=\"dataframe\">\n",
       "  <thead>\n",
       "    <tr style=\"text-align: right;\">\n",
       "      <th></th>\n",
       "      <th>name</th>\n",
       "      <th>reviews</th>\n",
       "      <th>FPS</th>\n",
       "      <th>Gore</th>\n",
       "      <th>Action</th>\n",
       "      <th>Demons</th>\n",
       "      <th>Shooter</th>\n",
       "      <th>First-Person</th>\n",
       "      <th>Great Soundtrack</th>\n",
       "      <th>Multiplayer</th>\n",
       "      <th>...</th>\n",
       "      <th>Finnish</th>\n",
       "      <th>Norwegian</th>\n",
       "      <th>Swedish</th>\n",
       "      <th>Greek</th>\n",
       "      <th>Bulgarian</th>\n",
       "      <th>Romanian</th>\n",
       "      <th>Unnamed: 411</th>\n",
       "      <th>Vietnamese</th>\n",
       "      <th>Slovakian</th>\n",
       "      <th>number of languages</th>\n",
       "    </tr>\n",
       "  </thead>\n",
       "  <tbody>\n",
       "    <tr>\n",
       "      <th>0</th>\n",
       "      <td>PLAYERUNKNOWN'S BATTLEGROUNDS</td>\n",
       "      <td>92</td>\n",
       "      <td>1</td>\n",
       "      <td>0</td>\n",
       "      <td>1</td>\n",
       "      <td>0</td>\n",
       "      <td>1</td>\n",
       "      <td>1</td>\n",
       "      <td>0</td>\n",
       "      <td>1</td>\n",
       "      <td>...</td>\n",
       "      <td>0</td>\n",
       "      <td>0</td>\n",
       "      <td>0</td>\n",
       "      <td>0</td>\n",
       "      <td>0</td>\n",
       "      <td>0</td>\n",
       "      <td>0</td>\n",
       "      <td>0</td>\n",
       "      <td>0</td>\n",
       "      <td>17</td>\n",
       "    </tr>\n",
       "    <tr>\n",
       "      <th>1</th>\n",
       "      <td>BATTLETECH</td>\n",
       "      <td>49</td>\n",
       "      <td>0</td>\n",
       "      <td>0</td>\n",
       "      <td>1</td>\n",
       "      <td>0</td>\n",
       "      <td>0</td>\n",
       "      <td>0</td>\n",
       "      <td>1</td>\n",
       "      <td>1</td>\n",
       "      <td>...</td>\n",
       "      <td>0</td>\n",
       "      <td>0</td>\n",
       "      <td>0</td>\n",
       "      <td>0</td>\n",
       "      <td>0</td>\n",
       "      <td>0</td>\n",
       "      <td>0</td>\n",
       "      <td>0</td>\n",
       "      <td>0</td>\n",
       "      <td>4</td>\n",
       "    </tr>\n",
       "    <tr>\n",
       "      <th>2</th>\n",
       "      <td>DayZ</td>\n",
       "      <td>71</td>\n",
       "      <td>1</td>\n",
       "      <td>0</td>\n",
       "      <td>1</td>\n",
       "      <td>0</td>\n",
       "      <td>1</td>\n",
       "      <td>0</td>\n",
       "      <td>0</td>\n",
       "      <td>1</td>\n",
       "      <td>...</td>\n",
       "      <td>0</td>\n",
       "      <td>0</td>\n",
       "      <td>0</td>\n",
       "      <td>0</td>\n",
       "      <td>0</td>\n",
       "      <td>0</td>\n",
       "      <td>0</td>\n",
       "      <td>0</td>\n",
       "      <td>0</td>\n",
       "      <td>9</td>\n",
       "    </tr>\n",
       "    <tr>\n",
       "      <th>3</th>\n",
       "      <td>EVE Online</td>\n",
       "      <td>61</td>\n",
       "      <td>0</td>\n",
       "      <td>0</td>\n",
       "      <td>1</td>\n",
       "      <td>0</td>\n",
       "      <td>0</td>\n",
       "      <td>0</td>\n",
       "      <td>0</td>\n",
       "      <td>1</td>\n",
       "      <td>...</td>\n",
       "      <td>0</td>\n",
       "      <td>0</td>\n",
       "      <td>0</td>\n",
       "      <td>0</td>\n",
       "      <td>0</td>\n",
       "      <td>0</td>\n",
       "      <td>0</td>\n",
       "      <td>0</td>\n",
       "      <td>0</td>\n",
       "      <td>4</td>\n",
       "    </tr>\n",
       "    <tr>\n",
       "      <th>4</th>\n",
       "      <td>Grand Theft Auto V: Premium Online Edition</td>\n",
       "      <td>74</td>\n",
       "      <td>0</td>\n",
       "      <td>0</td>\n",
       "      <td>1</td>\n",
       "      <td>0</td>\n",
       "      <td>0</td>\n",
       "      <td>0</td>\n",
       "      <td>0</td>\n",
       "      <td>0</td>\n",
       "      <td>...</td>\n",
       "      <td>0</td>\n",
       "      <td>0</td>\n",
       "      <td>0</td>\n",
       "      <td>0</td>\n",
       "      <td>0</td>\n",
       "      <td>0</td>\n",
       "      <td>0</td>\n",
       "      <td>0</td>\n",
       "      <td>0</td>\n",
       "      <td>12</td>\n",
       "    </tr>\n",
       "  </tbody>\n",
       "</table>\n",
       "<p>5 rows × 415 columns</p>\n",
       "</div>"
      ],
      "text/plain": [
       "                                         name  reviews  FPS  Gore  Action  \\\n",
       "0               PLAYERUNKNOWN'S BATTLEGROUNDS       92    1     0       1   \n",
       "1                                  BATTLETECH       49    0     0       1   \n",
       "2                                        DayZ       71    1     0       1   \n",
       "3                                  EVE Online       61    0     0       1   \n",
       "4  Grand Theft Auto V: Premium Online Edition       74    0     0       1   \n",
       "\n",
       "   Demons  Shooter  First-Person  Great Soundtrack  Multiplayer  ...  Finnish  \\\n",
       "0       0        1             1                 0            1  ...        0   \n",
       "1       0        0             0                 1            1  ...        0   \n",
       "2       0        1             0                 0            1  ...        0   \n",
       "3       0        0             0                 0            1  ...        0   \n",
       "4       0        0             0                 0            0  ...        0   \n",
       "\n",
       "   Norwegian  Swedish  Greek  Bulgarian  Romanian  Unnamed: 411  Vietnamese  \\\n",
       "0          0        0      0          0         0             0           0   \n",
       "1          0        0      0          0         0             0           0   \n",
       "2          0        0      0          0         0             0           0   \n",
       "3          0        0      0          0         0             0           0   \n",
       "4          0        0      0          0         0             0           0   \n",
       "\n",
       "   Slovakian  number of languages  \n",
       "0          0                   17  \n",
       "1          0                    4  \n",
       "2          0                    9  \n",
       "3          0                    4  \n",
       "4          0                   12  \n",
       "\n",
       "[5 rows x 415 columns]"
      ]
     },
     "execution_count": 3,
     "metadata": {},
     "output_type": "execute_result"
    }
   ],
   "source": [
    "df.head(5)"
   ]
  },
  {
   "cell_type": "code",
   "execution_count": 4,
   "metadata": {},
   "outputs": [
    {
     "data": {
      "text/plain": [
       "Index(['name', 'reviews', 'FPS', 'Gore', 'Action', 'Demons', 'Shooter',\n",
       "       'First-Person', 'Great Soundtrack', 'Multiplayer',\n",
       "       ...\n",
       "       'Finnish', 'Norwegian', 'Swedish', 'Greek', 'Bulgarian', 'Romanian',\n",
       "       'Unnamed: 411', 'Vietnamese', 'Slovakian', 'number of languages'],\n",
       "      dtype='object', length=415)"
      ]
     },
     "execution_count": 4,
     "metadata": {},
     "output_type": "execute_result"
    }
   ],
   "source": [
    "df.columns"
   ]
  },
  {
   "cell_type": "code",
   "execution_count": 5,
   "metadata": {},
   "outputs": [
    {
     "data": {
      "text/plain": [
       "RangeIndex(start=0, stop=11766, step=1)"
      ]
     },
     "execution_count": 5,
     "metadata": {},
     "output_type": "execute_result"
    }
   ],
   "source": [
    "df.index"
   ]
  },
  {
   "cell_type": "code",
   "execution_count": 6,
   "metadata": {},
   "outputs": [
    {
     "data": {
      "text/plain": [
       "array([[\"PLAYERUNKNOWN'S BATTLEGROUNDS\", 92, 1, ..., 0, 0, 17],\n",
       "       ['BATTLETECH', 49, 0, ..., 0, 0, 4],\n",
       "       ['DayZ', 71, 1, ..., 0, 0, 9],\n",
       "       ...,\n",
       "       ['Chicken Farm 2K17 - Premium', 99, 0, ..., 0, 0, 1],\n",
       "       ['TANE DLC - ZecRail 2017 Christmas Train', 96, 0, ..., 0, 0, 4],\n",
       "       ['TANE DLC - EMD GP50 - Burlington Northern (Phase I)', 100, 0,\n",
       "        ..., 0, 0, 1]], dtype=object)"
      ]
     },
     "execution_count": 6,
     "metadata": {},
     "output_type": "execute_result"
    }
   ],
   "source": [
    "df.values"
   ]
  },
  {
   "cell_type": "code",
   "execution_count": 7,
   "metadata": {},
   "outputs": [
    {
     "name": "stdout",
     "output_type": "stream",
     "text": [
      "[[1 0 1 ... 0 0 17]\n",
      " [0 0 1 ... 0 0 4]\n",
      " [1 0 1 ... 0 0 9]\n",
      " ...\n",
      " [0 0 0 ... 0 0 1]\n",
      " [0 0 1 ... 0 0 4]\n",
      " [0 0 1 ... 0 0 1]]\n"
     ]
    }
   ],
   "source": [
    "y = df['reviews'].values\n",
    "array = df.to_numpy()\n",
    "X = array[:, 2:]\n",
    "print(X)"
   ]
  },
  {
   "cell_type": "markdown",
   "metadata": {},
   "source": [
    "## Split train test data"
   ]
  },
  {
   "cell_type": "code",
   "execution_count": 14,
   "metadata": {},
   "outputs": [
    {
     "name": "stdout",
     "output_type": "stream",
     "text": [
      "(8232, 413) (3534, 413) (8232,) (3534,)\n"
     ]
    }
   ],
   "source": [
    "num_train = len(df) // 10 * 7\n",
    "\n",
    "Xtrain = X[:num_train]\n",
    "Xtest = X[num_train:]\n",
    "ytrain = y[:num_train]\n",
    "ytest = y[num_train:]\n",
    "print(Xtrain.shape, Xtest.shape, ytrain.shape, ytest.shape)"
   ]
  },
  {
   "cell_type": "markdown",
   "metadata": {},
   "source": [
    "## Test data with multiple linear regression"
   ]
  },
  {
   "cell_type": "code",
   "execution_count": 15,
   "metadata": {},
   "outputs": [],
   "source": [
    "import scipy as sp\n",
    "import scipy.sparse.linalg\n",
    "import math"
   ]
  },
  {
   "cell_type": "code",
   "execution_count": 16,
   "metadata": {},
   "outputs": [
    {
     "name": "stdout",
     "output_type": "stream",
     "text": [
      "(413,)\n"
     ]
    }
   ],
   "source": [
    "out = sp.sparse.linalg.lsqr(Xtrain,ytrain)\n",
    "beta = out[0]\n",
    "print(beta.shape)"
   ]
  },
  {
   "cell_type": "markdown",
   "metadata": {},
   "source": [
    "## Compute Baseline"
   ]
  },
  {
   "cell_type": "code",
   "execution_count": 17,
   "metadata": {},
   "outputs": [
    {
     "name": "stdout",
     "output_type": "stream",
     "text": [
      "multiple variable loss=2.33484e+01\n"
     ]
    }
   ],
   "source": [
    "yBaseline = np.ones(len(ytest)) * np.mean(ytrain)\n",
    "errs = np.array(abs(ytest - yBaseline))\n",
    "loss = np.sum(errs)\n",
    "avgL = loss/len(ytest)\n",
    "print(\"multiple variable loss=\"+\"{:.5e}\".format(avgL))"
   ]
  },
  {
   "cell_type": "code",
   "execution_count": 18,
   "metadata": {},
   "outputs": [],
   "source": [
    "## Compute loss with linear regression"
   ]
  },
  {
   "cell_type": "code",
   "execution_count": 19,
   "metadata": {},
   "outputs": [
    {
     "name": "stdout",
     "output_type": "stream",
     "text": [
      "multiple variable loss=2.35577e+01\n",
      "83.62901253448273\n",
      "82.51957926932329\n",
      "82.20672273692941\n",
      "78.77474326442541\n",
      "77.65598416014087\n",
      "77.62221472000093\n",
      "77.27586257272856\n",
      "77.12682895350224\n",
      "77.09759014394845\n",
      "75.31096363200604\n",
      "75.1360392893342\n",
      "75.1360392893342\n",
      "74.73299745287298\n",
      "72.93077204266501\n",
      "72.80649744806892\n",
      "72.72327036407098\n",
      "72.51382456933325\n",
      "72.1360392893342\n",
      "71.91868982611507\n",
      "71.08735643746851\n",
      "70.97455811389906\n",
      "70.80711384058276\n",
      "70.69724468642602\n",
      "70.65140738731046\n",
      "70.47455664183205\n",
      "69.40540121145618\n",
      "68.58473905528416\n",
      "68.5220791257849\n",
      "68.30984971614151\n",
      "68.2241125727916\n",
      "68.13332120483432\n",
      "67.99850193807077\n",
      "67.85338552995242\n",
      "67.77460471175058\n",
      "67.73299745287298\n",
      "67.65695679654635\n",
      "67.34114816625181\n",
      "67.17070928528432\n",
      "67.10682953507552\n",
      "67.06219112563451\n",
      "66.84772726547412\n",
      "66.63055407372721\n",
      "66.52622886929683\n",
      "66.15972774473934\n",
      "66.1360392893342\n",
      "66.05953302691391\n",
      "65.85850238319239\n",
      "65.73299745287298\n",
      "65.73095071157701\n",
      "65.67821285828016\n"
     ]
    }
   ],
   "source": [
    "yp = Xtest@beta\n",
    "errs = np.array(abs(ytest - yp))\n",
    "loss = np.sum(errs)\n",
    "avgL = np.mean(errs)\n",
    "\n",
    "print(\"multiple variable loss=\"+\"{:.5e}\".format(avgL))\n",
    "arr = []\n",
    "\n",
    "for i in range(len(ytest)):\n",
    "    arr.append(abs(yp[i]-ytest[i]))\n",
    "arr.sort(reverse = True)\n",
    "for i in range(50):\n",
    "    print(arr[i])"
   ]
  },
  {
   "cell_type": "code",
   "execution_count": 20,
   "metadata": {},
   "outputs": [],
   "source": [
    "import matplotlib.pyplot as plt\n",
    "\n"
   ]
  },
  {
   "cell_type": "code",
   "execution_count": 24,
   "metadata": {},
   "outputs": [
    {
     "data": {
      "image/png": "[encoded data removed]",
      "text/plain": [
       "<Figure size 432x288 with 1 Axes>"
      ]
     },
     "metadata": {
      "needs_background": "light"
     },
     "output_type": "display_data"
    }
   ],
   "source": [
    "plt.plot(yp, label = \"yp\")\n",
    "plt.plot(ytest, label = \"ytest\")\n",
    "plt.legend(loc=\"upper left\")\n",
    "axes = plt.gca()\n",
    "#axes.set_xlim([0,500])\n",
    "#axes.set_ylim([60,100])\n",
    "plt.show()"
   ]
  },
  {
   "cell_type": "code",
   "execution_count": 22,
   "metadata": {},
   "outputs": [
    {
     "data": {
      "text/plain": [
       "[<matplotlib.lines.Line2D at 0x12bd98c10>]"
      ]
     },
     "execution_count": 22,
     "metadata": {},
     "output_type": "execute_result"
    },
    {
     "data": {
      "image/png": "[encoded data removed]",
      "text/plain": [
       "<Figure size 432x288 with 1 Axes>"
      ]
     },
     "metadata": {
      "needs_background": "light"
     },
     "output_type": "display_data"
    }
   ],
   "source": [
    "plt.plot(errs)"
   ]
  },
  {
   "cell_type": "code",
   "execution_count": 23,
   "metadata": {},
   "outputs": [
    {
     "name": "stdout",
     "output_type": "stream",
     "text": [
      "23.557652058251374\n"
     ]
    }
   ],
   "source": [
    "print(np.mean(errs))"
   ]
  },
  {
   "cell_type": "code",
   "execution_count": null,
   "metadata": {},
   "outputs": [],
   "source": []
  }
 ],
 "metadata": {
  "kernelspec": {
   "display_name": "Python 3",
   "language": "python",
   "name": "python3"
  },
  "language_info": {
   "codemirror_mode": {
    "name": "ipython",
    "version": 3
   },
   "file_extension": ".py",
   "mimetype": "text/x-python",
   "name": "python",
   "nbconvert_exporter": "python",
   "pygments_lexer": "ipython3",
   "version": "3.7.4"
  }
 },
 "nbformat": 4,
 "nbformat_minor": 4
}
