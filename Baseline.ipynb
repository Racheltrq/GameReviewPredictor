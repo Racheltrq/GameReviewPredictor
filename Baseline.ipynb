{
 "cells": [
  {
   "cell_type": "markdown",
   "metadata": {},
   "source": [
    "## Loading Data from local file"
   ]
  },
  {
   "cell_type": "code",
   "execution_count": 1,
   "metadata": {},
   "outputs": [],
   "source": [
    "import pandas as pd\n",
    "import numpy as np"
   ]
  },
  {
   "cell_type": "code",
   "execution_count": 2,
   "metadata": {},
   "outputs": [],
   "source": [
    "df = pd.read_csv('./XYmat.csv')"
   ]
  },
  {
   "cell_type": "code",
   "execution_count": 3,
   "metadata": {},
   "outputs": [
    {
     "data": {
      "text/html": [
       "<div>\n",
       "<style scoped>\n",
       "    .dataframe tbody tr th:only-of-type {\n",
       "        vertical-align: middle;\n",
       "    }\n",
       "\n",
       "    .dataframe tbody tr th {\n",
       "        vertical-align: top;\n",
       "    }\n",
       "\n",
       "    .dataframe thead th {\n",
       "        text-align: right;\n",
       "    }\n",
       "</style>\n",
       "<table border=\"1\" class=\"dataframe\">\n",
       "  <thead>\n",
       "    <tr style=\"text-align: right;\">\n",
       "      <th></th>\n",
       "      <th>name</th>\n",
       "      <th>reviews</th>\n",
       "      <th>FPS</th>\n",
       "      <th>Gore</th>\n",
       "      <th>Action</th>\n",
       "      <th>Demons</th>\n",
       "      <th>Shooter</th>\n",
       "      <th>First-Person</th>\n",
       "      <th>Great Soundtrack</th>\n",
       "      <th>Multiplayer</th>\n",
       "      <th>...</th>\n",
       "      <th>Pool</th>\n",
       "      <th>Documentary</th>\n",
       "      <th>Word Game</th>\n",
       "      <th>Feature Film</th>\n",
       "      <th>Spelling</th>\n",
       "      <th>achievements</th>\n",
       "      <th>prices</th>\n",
       "      <th>Valve</th>\n",
       "      <th>Accounting</th>\n",
       "      <th>Number of genres</th>\n",
       "    </tr>\n",
       "  </thead>\n",
       "  <tbody>\n",
       "    <tr>\n",
       "      <th>0</th>\n",
       "      <td>DOOM</td>\n",
       "      <td>92</td>\n",
       "      <td>1</td>\n",
       "      <td>1</td>\n",
       "      <td>1</td>\n",
       "      <td>1</td>\n",
       "      <td>1</td>\n",
       "      <td>1</td>\n",
       "      <td>1</td>\n",
       "      <td>1</td>\n",
       "      <td>...</td>\n",
       "      <td>0</td>\n",
       "      <td>0</td>\n",
       "      <td>0</td>\n",
       "      <td>0</td>\n",
       "      <td>0</td>\n",
       "      <td>54</td>\n",
       "      <td>19.99</td>\n",
       "      <td>0</td>\n",
       "      <td>0</td>\n",
       "      <td>1</td>\n",
       "    </tr>\n",
       "    <tr>\n",
       "      <th>1</th>\n",
       "      <td>PLAYERUNKNOWN'S BATTLEGROUNDS</td>\n",
       "      <td>49</td>\n",
       "      <td>1</td>\n",
       "      <td>0</td>\n",
       "      <td>1</td>\n",
       "      <td>0</td>\n",
       "      <td>1</td>\n",
       "      <td>1</td>\n",
       "      <td>0</td>\n",
       "      <td>1</td>\n",
       "      <td>...</td>\n",
       "      <td>0</td>\n",
       "      <td>0</td>\n",
       "      <td>0</td>\n",
       "      <td>0</td>\n",
       "      <td>0</td>\n",
       "      <td>37</td>\n",
       "      <td>29.99</td>\n",
       "      <td>0</td>\n",
       "      <td>0</td>\n",
       "      <td>3</td>\n",
       "    </tr>\n",
       "    <tr>\n",
       "      <th>2</th>\n",
       "      <td>BATTLETECH</td>\n",
       "      <td>71</td>\n",
       "      <td>0</td>\n",
       "      <td>0</td>\n",
       "      <td>1</td>\n",
       "      <td>0</td>\n",
       "      <td>0</td>\n",
       "      <td>0</td>\n",
       "      <td>1</td>\n",
       "      <td>1</td>\n",
       "      <td>...</td>\n",
       "      <td>0</td>\n",
       "      <td>0</td>\n",
       "      <td>0</td>\n",
       "      <td>0</td>\n",
       "      <td>0</td>\n",
       "      <td>128</td>\n",
       "      <td>39.99</td>\n",
       "      <td>0</td>\n",
       "      <td>0</td>\n",
       "      <td>3</td>\n",
       "    </tr>\n",
       "    <tr>\n",
       "      <th>3</th>\n",
       "      <td>DayZ</td>\n",
       "      <td>61</td>\n",
       "      <td>1</td>\n",
       "      <td>0</td>\n",
       "      <td>1</td>\n",
       "      <td>0</td>\n",
       "      <td>1</td>\n",
       "      <td>0</td>\n",
       "      <td>0</td>\n",
       "      <td>1</td>\n",
       "      <td>...</td>\n",
       "      <td>0</td>\n",
       "      <td>0</td>\n",
       "      <td>0</td>\n",
       "      <td>0</td>\n",
       "      <td>0</td>\n",
       "      <td>0</td>\n",
       "      <td>44.99</td>\n",
       "      <td>0</td>\n",
       "      <td>0</td>\n",
       "      <td>3</td>\n",
       "    </tr>\n",
       "    <tr>\n",
       "      <th>4</th>\n",
       "      <td>EVE Online</td>\n",
       "      <td>74</td>\n",
       "      <td>0</td>\n",
       "      <td>0</td>\n",
       "      <td>1</td>\n",
       "      <td>0</td>\n",
       "      <td>0</td>\n",
       "      <td>0</td>\n",
       "      <td>0</td>\n",
       "      <td>1</td>\n",
       "      <td>...</td>\n",
       "      <td>0</td>\n",
       "      <td>0</td>\n",
       "      <td>0</td>\n",
       "      <td>0</td>\n",
       "      <td>0</td>\n",
       "      <td>0</td>\n",
       "      <td>0.00</td>\n",
       "      <td>0</td>\n",
       "      <td>0</td>\n",
       "      <td>5</td>\n",
       "    </tr>\n",
       "  </tbody>\n",
       "</table>\n",
       "<p>5 rows × 383 columns</p>\n",
       "</div>"
      ],
      "text/plain": [
       "                            name  reviews  FPS  Gore  Action  Demons  Shooter  \\\n",
       "0                           DOOM       92    1     1       1       1        1   \n",
       "1  PLAYERUNKNOWN'S BATTLEGROUNDS       49    1     0       1       0        1   \n",
       "2                     BATTLETECH       71    0     0       1       0        0   \n",
       "3                           DayZ       61    1     0       1       0        1   \n",
       "4                     EVE Online       74    0     0       1       0        0   \n",
       "\n",
       "   First-Person  Great Soundtrack  Multiplayer  ...  Pool  Documentary  \\\n",
       "0             1                 1            1  ...     0            0   \n",
       "1             1                 0            1  ...     0            0   \n",
       "2             0                 1            1  ...     0            0   \n",
       "3             0                 0            1  ...     0            0   \n",
       "4             0                 0            1  ...     0            0   \n",
       "\n",
       "   Word Game  Feature Film  Spelling  achievements  prices  Valve  Accounting  \\\n",
       "0          0             0         0            54   19.99      0           0   \n",
       "1          0             0         0            37   29.99      0           0   \n",
       "2          0             0         0           128   39.99      0           0   \n",
       "3          0             0         0             0   44.99      0           0   \n",
       "4          0             0         0             0    0.00      0           0   \n",
       "\n",
       "   Number of genres  \n",
       "0                 1  \n",
       "1                 3  \n",
       "2                 3  \n",
       "3                 3  \n",
       "4                 5  \n",
       "\n",
       "[5 rows x 383 columns]"
      ]
     },
     "execution_count": 3,
     "metadata": {},
     "output_type": "execute_result"
    }
   ],
   "source": [
    "df.head(5)"
   ]
  },
  {
   "cell_type": "code",
   "execution_count": 4,
   "metadata": {},
   "outputs": [
    {
     "data": {
      "text/plain": [
       "Index(['name', 'reviews', 'FPS', 'Gore', 'Action', 'Demons', 'Shooter',\n",
       "       'First-Person', 'Great Soundtrack', 'Multiplayer',\n",
       "       ...\n",
       "       'Pool', 'Documentary', 'Word Game', 'Feature Film', 'Spelling',\n",
       "       'achievements', 'prices', 'Valve', 'Accounting', 'Number of genres'],\n",
       "      dtype='object', length=383)"
      ]
     },
     "execution_count": 4,
     "metadata": {},
     "output_type": "execute_result"
    }
   ],
   "source": [
    "df.columns"
   ]
  },
  {
   "cell_type": "code",
   "execution_count": 5,
   "metadata": {},
   "outputs": [
    {
     "data": {
      "text/plain": [
       "RangeIndex(start=0, stop=11766, step=1)"
      ]
     },
     "execution_count": 5,
     "metadata": {},
     "output_type": "execute_result"
    }
   ],
   "source": [
    "df.index"
   ]
  },
  {
   "cell_type": "code",
   "execution_count": 6,
   "metadata": {},
   "outputs": [
    {
     "data": {
      "text/plain": [
       "array([['DOOM', 92, 1, ..., 0, 0, 1],\n",
       "       [\"PLAYERUNKNOWN'S BATTLEGROUNDS\", 49, 1, ..., 0, 0, 3],\n",
       "       ['BATTLETECH', 71, 0, ..., 0, 0, 3],\n",
       "       ...,\n",
       "       ['STAX', 99, 0, ..., 0, 0, 2],\n",
       "       ['Chicken Farm 2K17 - Premium', 96, 0, ..., 0, 0, 3],\n",
       "       ['TANE DLC - ZecRail 2017 Christmas Train', 100, 0, ..., 0, 0, 5]],\n",
       "      dtype=object)"
      ]
     },
     "execution_count": 6,
     "metadata": {},
     "output_type": "execute_result"
    }
   ],
   "source": [
    "df.values"
   ]
  },
  {
   "cell_type": "code",
   "execution_count": 7,
   "metadata": {},
   "outputs": [
    {
     "name": "stdout",
     "output_type": "stream",
     "text": [
      "[[1 1 1 ... 0 0 1]\n",
      " [1 0 1 ... 0 0 3]\n",
      " [0 0 1 ... 0 0 3]\n",
      " ...\n",
      " [0 0 0 ... 0 0 2]\n",
      " [0 0 0 ... 0 0 3]\n",
      " [0 0 1 ... 0 0 5]]\n"
     ]
    }
   ],
   "source": [
    "y = df['reviews'].values\n",
    "array = df.to_numpy()\n",
    "X = array[:, 2:]\n",
    "print(X)"
   ]
  },
  {
   "cell_type": "markdown",
   "metadata": {},
   "source": [
    "## Split train test data"
   ]
  },
  {
   "cell_type": "code",
   "execution_count": 8,
   "metadata": {},
   "outputs": [
    {
     "name": "stdout",
     "output_type": "stream",
     "text": [
      "(8232, 381) (3534, 381) (8232,) (3534,)\n"
     ]
    }
   ],
   "source": [
    "num_train = len(df) // 10 * 7\n",
    "\n",
    "Xtrain = X[:num_train]\n",
    "Xtest = X[num_train:]\n",
    "ytrain = y[:num_train]\n",
    "ytest = y[num_train:]\n",
    "print(Xtrain.shape, Xtest.shape, ytrain.shape, ytest.shape)"
   ]
  },
  {
   "cell_type": "markdown",
   "metadata": {},
   "source": [
    "## Test data with multiple linear regression"
   ]
  },
  {
   "cell_type": "code",
   "execution_count": 9,
   "metadata": {},
   "outputs": [],
   "source": [
    "import scipy as sp\n",
    "import scipy.sparse.linalg\n",
    "import math"
   ]
  },
  {
   "cell_type": "code",
   "execution_count": 10,
   "metadata": {},
   "outputs": [
    {
     "name": "stdout",
     "output_type": "stream",
     "text": [
      "(381,)\n"
     ]
    }
   ],
   "source": [
    "out = sp.sparse.linalg.lsqr(Xtrain,ytrain)\n",
    "beta = out[0]\n",
    "print(beta.shape)"
   ]
  },
  {
   "cell_type": "markdown",
   "metadata": {},
   "source": [
    "## Compute Baseline"
   ]
  },
  {
   "cell_type": "code",
   "execution_count": 11,
   "metadata": {},
   "outputs": [
    {
     "name": "stdout",
     "output_type": "stream",
     "text": [
      "multiple variable loss=2.33e+01\n"
     ]
    }
   ],
   "source": [
    "yBaseline = np.ones(len(ytest)) * np.mean(ytrain)\n",
    "errs = np.array(abs(ytest - yBaseline))\n",
    "loss = np.sum(errs)\n",
    "avgL = loss/len(ytest)\n",
    "print(\"multiple variable loss=\"+\"{:.2e}\".format(avgL))"
   ]
  },
  {
   "cell_type": "code",
   "execution_count": 12,
   "metadata": {},
   "outputs": [],
   "source": [
    "## Compute loss with linear regression"
   ]
  },
  {
   "cell_type": "code",
   "execution_count": 13,
   "metadata": {},
   "outputs": [
    {
     "name": "stdout",
     "output_type": "stream",
     "text": [
      "multiple variable loss=2.33e+01\n",
      "110.80326840456644\n",
      "110.03635757012734\n",
      "106.5454409496329\n",
      "95.34250289431543\n",
      "93.84333453636447\n",
      "93.43438217285066\n",
      "92.81871225985691\n",
      "91.97453299332003\n",
      "90.70044099562236\n",
      "90.64691562348992\n",
      "90.29307527310871\n",
      "90.08951196869847\n",
      "89.91825382082598\n",
      "89.67944815996516\n",
      "89.18390875667345\n",
      "89.06680927930893\n",
      "88.51788592698341\n",
      "88.43999697608496\n",
      "88.32490105844022\n",
      "88.09538186990272\n",
      "87.85303031336616\n",
      "87.37669974809853\n",
      "86.82780608008373\n",
      "86.3474195307129\n",
      "85.91484855194969\n",
      "85.7328028624375\n",
      "85.14148987022764\n",
      "85.01584179429378\n",
      "84.9621235639134\n",
      "84.76659200474484\n",
      "84.64843227508638\n",
      "84.01291630051847\n",
      "83.13544524170166\n",
      "83.06508866607624\n",
      "82.76983120887468\n",
      "82.56446414100174\n",
      "82.0767237877468\n",
      "81.39319184891957\n",
      "81.35060328825806\n",
      "81.30330216171805\n",
      "81.1044453536198\n",
      "79.7799741046897\n",
      "78.35317681288223\n",
      "78.32095515634455\n",
      "77.92288491904827\n",
      "77.51180563328548\n",
      "76.74608997124596\n",
      "76.3254371891392\n",
      "75.99872980337477\n",
      "75.91772305769251\n"
     ]
    }
   ],
   "source": [
    "yp = Xtest@beta\n",
    "\n",
    "errs = np.array(abs(ytest - yp))\n",
    "loss = np.sum(errs)\n",
    "avgL = np.mean(avgL)\n",
    "\n",
    "print(\"multiple variable loss=\"+\"{:.2e}\".format(avgL))\n",
    "\n",
    "arr = []\n",
    "for i in range(len(ytest)):\n",
    "    arr.append(abs(yp[i]-ytest[i]))\n",
    "arr.sort(reverse = True)\n",
    "for i in range(50):\n",
    "    print(arr[i])"
   ]
  },
  {
   "cell_type": "code",
   "execution_count": 14,
   "metadata": {},
   "outputs": [],
   "source": [
    "import matplotlib.pyplot as plt\n",
    "\n"
   ]
  },
  {
   "cell_type": "code",
   "execution_count": 15,
   "metadata": {},
   "outputs": [
    {
     "data": {
      "image/png": "[encoded data removed]",
      "text/plain": [
       "<Figure size 432x288 with 1 Axes>"
      ]
     },
     "metadata": {
      "needs_background": "light"
     },
     "output_type": "display_data"
    }
   ],
   "source": [
    "\n",
    "\n",
    "plt.plot(yp, label = \"yp\")\n",
    "plt.plot(ytest, label = \"ytest\")\n",
    "plt.legend(loc=\"upper left\")\n",
    "axes = plt.gca()\n",
    "#axes.set_xlim([0,500])\n",
    "#axes.set_ylim([0,150])\n",
    "plt.show()"
   ]
  },
  {
   "cell_type": "code",
   "execution_count": 16,
   "metadata": {},
   "outputs": [
    {
     "data": {
      "text/plain": [
       "[<matplotlib.lines.Line2D at 0x12d41edf0>]"
      ]
     },
     "execution_count": 16,
     "metadata": {},
     "output_type": "execute_result"
    },
    {
     "data": {
      "image/png": "[encoded data removed]",
      "text/plain": [
       "<Figure size 432x288 with 1 Axes>"
      ]
     },
     "metadata": {
      "needs_background": "light"
     },
     "output_type": "display_data"
    }
   ],
   "source": [
    "plt.plot(errs)"
   ]
  },
  {
   "cell_type": "code",
   "execution_count": 17,
   "metadata": {},
   "outputs": [
    {
     "name": "stdout",
     "output_type": "stream",
     "text": [
      "23.558472177917505\n"
     ]
    }
   ],
   "source": [
    "print(np.mean(errs))"
   ]
  },
  {
   "cell_type": "code",
   "execution_count": null,
   "metadata": {},
   "outputs": [],
   "source": []
  }
 ],
 "metadata": {
  "kernelspec": {
   "display_name": "Python 3",
   "language": "python",
   "name": "python3"
  },
  "language_info": {
   "codemirror_mode": {
    "name": "ipython",
    "version": 3
   },
   "file_extension": ".py",
   "mimetype": "text/x-python",
   "name": "python",
   "nbconvert_exporter": "python",
   "pygments_lexer": "ipython3",
   "version": "3.8.2"
  }
 },
 "nbformat": 4,
 "nbformat_minor": 4
}
