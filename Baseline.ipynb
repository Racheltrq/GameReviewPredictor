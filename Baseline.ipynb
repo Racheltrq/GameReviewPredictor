{
 "cells": [
  {
   "cell_type": "markdown",
   "metadata": {},
   "source": [
    "## Loading Data from local file"
   ]
  },
  {
   "cell_type": "code",
   "execution_count": 19,
   "metadata": {},
   "outputs": [],
   "source": [
    "import pandas as pd\n",
    "import numpy as np"
   ]
  },
  {
   "cell_type": "code",
   "execution_count": 20,
   "metadata": {},
   "outputs": [],
   "source": [
    "df = pd.read_csv('./XYmat.csv')"
   ]
  },
  {
   "cell_type": "code",
   "execution_count": 21,
   "metadata": {},
   "outputs": [
    {
     "data": {
      "text/html": [
       "<div>\n",
       "<style scoped>\n",
       "    .dataframe tbody tr th:only-of-type {\n",
       "        vertical-align: middle;\n",
       "    }\n",
       "\n",
       "    .dataframe tbody tr th {\n",
       "        vertical-align: top;\n",
       "    }\n",
       "\n",
       "    .dataframe thead th {\n",
       "        text-align: right;\n",
       "    }\n",
       "</style>\n",
       "<table border=\"1\" class=\"dataframe\">\n",
       "  <thead>\n",
       "    <tr style=\"text-align: right;\">\n",
       "      <th></th>\n",
       "      <th>name</th>\n",
       "      <th>reviews</th>\n",
       "      <th>FPS</th>\n",
       "      <th>Gore</th>\n",
       "      <th>Action</th>\n",
       "      <th>Demons</th>\n",
       "      <th>Shooter</th>\n",
       "      <th>First-Person</th>\n",
       "      <th>Great Soundtrack</th>\n",
       "      <th>Multiplayer</th>\n",
       "      <th>...</th>\n",
       "      <th>Pool</th>\n",
       "      <th>Documentary</th>\n",
       "      <th>Word Game</th>\n",
       "      <th>Feature Film</th>\n",
       "      <th>Spelling</th>\n",
       "      <th>achievements</th>\n",
       "      <th>prices</th>\n",
       "      <th>Valve</th>\n",
       "      <th>Accounting</th>\n",
       "      <th>Number of genres</th>\n",
       "    </tr>\n",
       "  </thead>\n",
       "  <tbody>\n",
       "    <tr>\n",
       "      <th>0</th>\n",
       "      <td>PLAYERUNKNOWN'S BATTLEGROUNDS</td>\n",
       "      <td>92</td>\n",
       "      <td>1</td>\n",
       "      <td>0</td>\n",
       "      <td>1</td>\n",
       "      <td>0</td>\n",
       "      <td>1</td>\n",
       "      <td>1</td>\n",
       "      <td>0</td>\n",
       "      <td>1</td>\n",
       "      <td>...</td>\n",
       "      <td>0</td>\n",
       "      <td>0</td>\n",
       "      <td>0</td>\n",
       "      <td>0</td>\n",
       "      <td>0</td>\n",
       "      <td>37</td>\n",
       "      <td>29.99</td>\n",
       "      <td>0</td>\n",
       "      <td>0</td>\n",
       "      <td>3</td>\n",
       "    </tr>\n",
       "    <tr>\n",
       "      <th>1</th>\n",
       "      <td>BATTLETECH</td>\n",
       "      <td>49</td>\n",
       "      <td>0</td>\n",
       "      <td>0</td>\n",
       "      <td>1</td>\n",
       "      <td>0</td>\n",
       "      <td>0</td>\n",
       "      <td>0</td>\n",
       "      <td>1</td>\n",
       "      <td>1</td>\n",
       "      <td>...</td>\n",
       "      <td>0</td>\n",
       "      <td>0</td>\n",
       "      <td>0</td>\n",
       "      <td>0</td>\n",
       "      <td>0</td>\n",
       "      <td>128</td>\n",
       "      <td>39.99</td>\n",
       "      <td>0</td>\n",
       "      <td>0</td>\n",
       "      <td>3</td>\n",
       "    </tr>\n",
       "    <tr>\n",
       "      <th>2</th>\n",
       "      <td>DayZ</td>\n",
       "      <td>71</td>\n",
       "      <td>1</td>\n",
       "      <td>0</td>\n",
       "      <td>1</td>\n",
       "      <td>0</td>\n",
       "      <td>1</td>\n",
       "      <td>0</td>\n",
       "      <td>0</td>\n",
       "      <td>1</td>\n",
       "      <td>...</td>\n",
       "      <td>0</td>\n",
       "      <td>0</td>\n",
       "      <td>0</td>\n",
       "      <td>0</td>\n",
       "      <td>0</td>\n",
       "      <td>0</td>\n",
       "      <td>44.99</td>\n",
       "      <td>0</td>\n",
       "      <td>0</td>\n",
       "      <td>3</td>\n",
       "    </tr>\n",
       "    <tr>\n",
       "      <th>3</th>\n",
       "      <td>EVE Online</td>\n",
       "      <td>61</td>\n",
       "      <td>0</td>\n",
       "      <td>0</td>\n",
       "      <td>1</td>\n",
       "      <td>0</td>\n",
       "      <td>0</td>\n",
       "      <td>0</td>\n",
       "      <td>0</td>\n",
       "      <td>1</td>\n",
       "      <td>...</td>\n",
       "      <td>0</td>\n",
       "      <td>0</td>\n",
       "      <td>0</td>\n",
       "      <td>0</td>\n",
       "      <td>0</td>\n",
       "      <td>0</td>\n",
       "      <td>0.00</td>\n",
       "      <td>0</td>\n",
       "      <td>0</td>\n",
       "      <td>5</td>\n",
       "    </tr>\n",
       "    <tr>\n",
       "      <th>4</th>\n",
       "      <td>Grand Theft Auto V: Premium Online Edition</td>\n",
       "      <td>74</td>\n",
       "      <td>0</td>\n",
       "      <td>0</td>\n",
       "      <td>1</td>\n",
       "      <td>0</td>\n",
       "      <td>0</td>\n",
       "      <td>0</td>\n",
       "      <td>0</td>\n",
       "      <td>0</td>\n",
       "      <td>...</td>\n",
       "      <td>0</td>\n",
       "      <td>0</td>\n",
       "      <td>0</td>\n",
       "      <td>0</td>\n",
       "      <td>0</td>\n",
       "      <td>51</td>\n",
       "      <td>59.99</td>\n",
       "      <td>0</td>\n",
       "      <td>0</td>\n",
       "      <td>1</td>\n",
       "    </tr>\n",
       "  </tbody>\n",
       "</table>\n",
       "<p>5 rows × 383 columns</p>\n",
       "</div>"
      ],
      "text/plain": [
       "                                         name  reviews  FPS  Gore  Action  \\\n",
       "0               PLAYERUNKNOWN'S BATTLEGROUNDS       92    1     0       1   \n",
       "1                                  BATTLETECH       49    0     0       1   \n",
       "2                                        DayZ       71    1     0       1   \n",
       "3                                  EVE Online       61    0     0       1   \n",
       "4  Grand Theft Auto V: Premium Online Edition       74    0     0       1   \n",
       "\n",
       "   Demons  Shooter  First-Person  Great Soundtrack  Multiplayer  ...  Pool  \\\n",
       "0       0        1             1                 0            1  ...     0   \n",
       "1       0        0             0                 1            1  ...     0   \n",
       "2       0        1             0                 0            1  ...     0   \n",
       "3       0        0             0                 0            1  ...     0   \n",
       "4       0        0             0                 0            0  ...     0   \n",
       "\n",
       "   Documentary  Word Game  Feature Film  Spelling  achievements  prices  \\\n",
       "0            0          0             0         0            37   29.99   \n",
       "1            0          0             0         0           128   39.99   \n",
       "2            0          0             0         0             0   44.99   \n",
       "3            0          0             0         0             0    0.00   \n",
       "4            0          0             0         0            51   59.99   \n",
       "\n",
       "   Valve  Accounting  Number of genres  \n",
       "0      0           0                 3  \n",
       "1      0           0                 3  \n",
       "2      0           0                 3  \n",
       "3      0           0                 5  \n",
       "4      0           0                 1  \n",
       "\n",
       "[5 rows x 383 columns]"
      ]
     },
     "execution_count": 21,
     "metadata": {},
     "output_type": "execute_result"
    }
   ],
   "source": [
    "df.head(5)"
   ]
  },
  {
   "cell_type": "code",
   "execution_count": 22,
   "metadata": {},
   "outputs": [
    {
     "data": {
      "text/plain": [
       "Index(['name', 'reviews', 'FPS', 'Gore', 'Action', 'Demons', 'Shooter',\n",
       "       'First-Person', 'Great Soundtrack', 'Multiplayer',\n",
       "       ...\n",
       "       'Pool', 'Documentary', 'Word Game', 'Feature Film', 'Spelling',\n",
       "       'achievements', 'prices', 'Valve', 'Accounting', 'Number of genres'],\n",
       "      dtype='object', length=383)"
      ]
     },
     "execution_count": 22,
     "metadata": {},
     "output_type": "execute_result"
    }
   ],
   "source": [
    "df.columns"
   ]
  },
  {
   "cell_type": "code",
   "execution_count": 23,
   "metadata": {},
   "outputs": [
    {
     "data": {
      "text/plain": [
       "RangeIndex(start=0, stop=11766, step=1)"
      ]
     },
     "execution_count": 23,
     "metadata": {},
     "output_type": "execute_result"
    }
   ],
   "source": [
    "df.index"
   ]
  },
  {
   "cell_type": "code",
   "execution_count": 24,
   "metadata": {},
   "outputs": [
    {
     "data": {
      "text/plain": [
       "array([[\"PLAYERUNKNOWN'S BATTLEGROUNDS\", 92, 1, ..., 0, 0, 3],\n",
       "       ['BATTLETECH', 49, 0, ..., 0, 0, 3],\n",
       "       ['DayZ', 71, 1, ..., 0, 0, 3],\n",
       "       ...,\n",
       "       ['Chicken Farm 2K17 - Premium', 99, 0, ..., 0, 0, 3],\n",
       "       ['TANE DLC - ZecRail 2017 Christmas Train', 96, 0, ..., 0, 0, 5],\n",
       "       ['TANE DLC - EMD GP50 - Burlington Northern (Phase I)', 100, 0,\n",
       "        ..., 0, 0, 2]], dtype=object)"
      ]
     },
     "execution_count": 24,
     "metadata": {},
     "output_type": "execute_result"
    }
   ],
   "source": [
    "df.values"
   ]
  },
  {
   "cell_type": "code",
   "execution_count": 25,
   "metadata": {},
   "outputs": [
    {
     "name": "stdout",
     "output_type": "stream",
     "text": [
      "[[1 0 1 ... 0 0 3]\n",
      " [0 0 1 ... 0 0 3]\n",
      " [1 0 1 ... 0 0 3]\n",
      " ...\n",
      " [0 0 0 ... 0 0 3]\n",
      " [0 0 1 ... 0 0 5]\n",
      " [0 0 1 ... 0 0 2]]\n"
     ]
    }
   ],
   "source": [
    "y = df['reviews'].values\n",
    "array = df.to_numpy()\n",
    "X = array[:, 2:]\n",
    "print(X)"
   ]
  },
  {
   "cell_type": "markdown",
   "metadata": {},
   "source": [
    "## Split train test data"
   ]
  },
  {
   "cell_type": "code",
   "execution_count": 26,
   "metadata": {},
   "outputs": [
    {
     "name": "stdout",
     "output_type": "stream",
     "text": [
      "(8232, 381) (3534, 381) (8232,) (3534,)\n"
     ]
    }
   ],
   "source": [
    "num_train = len(df) // 10 * 7\n",
    "\n",
    "Xtrain = X[:num_train]\n",
    "Xtest = X[num_train:]\n",
    "ytrain = y[:num_train]\n",
    "ytest = y[num_train:]\n",
    "print(Xtrain.shape, Xtest.shape, ytrain.shape, ytest.shape)"
   ]
  },
  {
   "cell_type": "markdown",
   "metadata": {},
   "source": [
    "## Test data with multiple linear regression"
   ]
  },
  {
   "cell_type": "code",
   "execution_count": 27,
   "metadata": {},
   "outputs": [],
   "source": [
    "import scipy as sp\n",
    "import scipy.sparse.linalg\n",
    "import math"
   ]
  },
  {
   "cell_type": "code",
   "execution_count": 28,
   "metadata": {},
   "outputs": [
    {
     "name": "stdout",
     "output_type": "stream",
     "text": [
      "(381,)\n"
     ]
    }
   ],
   "source": [
    "out = sp.sparse.linalg.lsqr(Xtrain,ytrain)\n",
    "beta = out[0]\n",
    "print(beta.shape)"
   ]
  },
  {
   "cell_type": "markdown",
   "metadata": {},
   "source": [
    "## Compute Baseline"
   ]
  },
  {
   "cell_type": "code",
   "execution_count": 29,
   "metadata": {},
   "outputs": [
    {
     "name": "stdout",
     "output_type": "stream",
     "text": [
      "multiple variable loss=2.33e+01\n"
     ]
    }
   ],
   "source": [
    "yBaseline = np.ones(len(ytest)) * np.mean(ytrain)\n",
    "errs = np.array(abs(ytest - yBaseline))\n",
    "loss = np.sum(errs)\n",
    "avgL = loss/len(ytest)\n",
    "print(\"multiple variable loss=\"+\"{:.2e}\".format(avgL))"
   ]
  },
  {
   "cell_type": "code",
   "execution_count": 30,
   "metadata": {},
   "outputs": [],
   "source": [
    "## Compute loss with linear regression"
   ]
  },
  {
   "cell_type": "code",
   "execution_count": 31,
   "metadata": {},
   "outputs": [
    {
     "name": "stdout",
     "output_type": "stream",
     "text": [
      "multiple variable loss=2.33e+01\n",
      "127.9377496786397\n",
      "103.33634859848365\n",
      "102.16632220439112\n",
      "101.97765062904031\n",
      "100.30717723606364\n",
      "96.87294955252293\n",
      "93.40198665241388\n",
      "92.81213337048706\n",
      "92.68027206676487\n",
      "91.57836623173634\n",
      "90.73023916762554\n",
      "90.49483843932205\n",
      "90.33937125491295\n",
      "88.90611783405402\n",
      "88.80629994924374\n",
      "88.47897196253814\n",
      "87.08305410787904\n",
      "87.06901602771026\n",
      "86.85672443285068\n",
      "86.54974389055315\n",
      "86.38210844309202\n",
      "85.96767729628633\n",
      "85.22121952958068\n",
      "84.19994152999561\n",
      "82.89653095831673\n",
      "82.73398962204061\n",
      "82.40817392666747\n",
      "82.10797776054801\n",
      "81.19330904435535\n",
      "79.80167395531842\n",
      "79.63384319179451\n",
      "78.94014816669369\n",
      "78.49010690068482\n",
      "78.42134160138596\n",
      "77.78783688695441\n",
      "77.47582028012266\n",
      "77.44485022624248\n",
      "76.62103029021007\n",
      "75.74790475735998\n",
      "75.44485022624248\n",
      "74.88970265867934\n",
      "74.71286714226216\n",
      "74.50792123090332\n",
      "74.33207942148033\n",
      "73.87905151576223\n",
      "73.78645475668739\n",
      "72.74012578888312\n",
      "72.70521162567223\n",
      "72.49528736838795\n",
      "72.44201532332062\n"
     ]
    }
   ],
   "source": [
    "yp = Xtest@beta\n",
    "\n",
    "errs = np.array(abs(ytest - yp))\n",
    "loss = np.sum(errs)\n",
    "avgL = np.mean(avgL)\n",
    "\n",
    "print(\"multiple variable loss=\"+\"{:.2e}\".format(avgL))\n",
    "\n",
    "arr = []\n",
    "for i in range(len(ytest)):\n",
    "    arr.append(abs(yp[i]-ytest[i]))\n",
    "arr.sort(reverse = True)\n",
    "for i in range(50):\n",
    "    print(arr[i])"
   ]
  },
  {
   "cell_type": "code",
   "execution_count": 32,
   "metadata": {},
   "outputs": [],
   "source": [
    "import matplotlib.pyplot as plt\n",
    "\n"
   ]
  },
  {
   "cell_type": "code",
   "execution_count": 33,
   "metadata": {},
   "outputs": [
    {
     "data": {
      "image/png": "[encoded data removed]",
      "text/plain": [
       "<Figure size 432x288 with 1 Axes>"
      ]
     },
     "metadata": {
      "needs_background": "light"
     },
     "output_type": "display_data"
    }
   ],
   "source": [
    "\n",
    "\n",
    "plt.plot(yp, label = \"yp\")\n",
    "plt.plot(ytest, label = \"ytest\")\n",
    "plt.legend(loc=\"upper left\")\n",
    "axes = plt.gca()\n",
    "#axes.set_xlim([0,500])\n",
    "#axes.set_ylim([0,150])\n",
    "plt.show()"
   ]
  },
  {
   "cell_type": "code",
   "execution_count": 34,
   "metadata": {},
   "outputs": [
    {
     "data": {
      "text/plain": [
       "[<matplotlib.lines.Line2D at 0x1171ba0a0>]"
      ]
     },
     "execution_count": 34,
     "metadata": {},
     "output_type": "execute_result"
    },
    {
     "data": {
      "image/png": "[encoded data removed]",
      "text/plain": [
       "<Figure size 432x288 with 1 Axes>"
      ]
     },
     "metadata": {
      "needs_background": "light"
     },
     "output_type": "display_data"
    }
   ],
   "source": [
    "plt.plot(errs)"
   ]
  },
  {
   "cell_type": "code",
   "execution_count": 35,
   "metadata": {},
   "outputs": [
    {
     "name": "stdout",
     "output_type": "stream",
     "text": [
      "23.4235688900828\n"
     ]
    }
   ],
   "source": [
    "print(np.mean(errs))"
   ]
  },
  {
   "cell_type": "code",
   "execution_count": null,
   "metadata": {},
   "outputs": [],
   "source": []
  }
 ],
 "metadata": {
  "kernelspec": {
   "display_name": "Python 3",
   "language": "python",
   "name": "python3"
  },
  "language_info": {
   "codemirror_mode": {
    "name": "ipython",
    "version": 3
   },
   "file_extension": ".py",
   "mimetype": "text/x-python",
   "name": "python",
   "nbconvert_exporter": "python",
   "pygments_lexer": "ipython3",
   "version": "3.8.2"
  }
 },
 "nbformat": 4,
 "nbformat_minor": 4
}
